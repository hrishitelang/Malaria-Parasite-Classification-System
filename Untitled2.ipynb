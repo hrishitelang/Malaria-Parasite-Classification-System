{
 "cells": [
  {
   "cell_type": "code",
   "execution_count": 2,
   "metadata": {},
   "outputs": [
    {
     "name": "stdout",
     "output_type": "stream",
     "text": [
      "Reading all images from the directory: C:\\Users\\Admin\\Desktop\\Statistical Moments using Bins\\COVID-19 dataset\\COVID-19 Radiography Database\\COVID-19\n",
      "Output will be saved in: C:\\Users\\Admin\\Desktop\\Statistical Moments using Bins\\output\n",
      "Done processing images.\n"
     ]
    }
   ],
   "source": [
    "import os\n",
    "import cv2\n",
    "import sys\n",
    "import glob\n",
    "from shutil import rmtree\n",
    "\n",
    "def color_map():\n",
    "  image_dir_path = os.path.join(os.getcwd(), \"COVID-19 dataset\\COVID-19 Radiography Database\\COVID-19\")\n",
    "  out_path = os.path.join(os.getcwd(), \"output\")\n",
    "  ext = \"png\"\n",
    "\n",
    "  # find all images in the directory\n",
    "  images = glob.glob(f\"{image_dir_path}/*.{ext}\")\n",
    "\n",
    "  # get all colormap flags available in opencv\n",
    "  colormap_flag_prefix = 'COLORMAP_'\n",
    "  colormap_flags = [i for i in dir(cv2) if i.startswith(colormap_flag_prefix)]\n",
    "\n",
    "  # assemble the dictionary of color maps\n",
    "  colormaps = {}\n",
    "  for colormap_flag in colormap_flags:\n",
    "    colormap_key = colormap_flag[len(colormap_flag_prefix):].lower()\n",
    "\n",
    "    colormaps[colormap_key] = getattr(cv2, colormap_flag)\n",
    "\n",
    "  # exit immediately when there are no detected color maps\n",
    "  num_colormap_flags = len(colormap_flags)\n",
    "  if num_colormap_flags == 0:\n",
    "    print(\"No color map flags present on OpenCV. This is insane! should have at least one!\")\n",
    "    sys.exit(1)\n",
    "\n",
    "  # exit immediately when there are no images present on the folder\n",
    "  num_images = len(images)\n",
    "  if num_images == 0:\n",
    "    print(f\"No images present on the directory: {image_dir_path}\")\n",
    "    sys.exit(1)\n",
    "\n",
    "  print(f\"Reading all images from the directory: {image_dir_path}\")\n",
    "  print(f\"Output will be saved in: {out_path}\")\n",
    "\n",
    "  # delete the folder to make sure we are create new files\n",
    "  if os.path.exists(out_path):\n",
    "    rmtree(out_path)\n",
    "\n",
    "  # create the output folder if not exists\n",
    "  if not os.path.exists(out_path):\n",
    "    os.makedirs(out_path)\n",
    "\n",
    "  # iterate all found images\n",
    "  for image in images:\n",
    "    basename = os.path.basename(image)\n",
    "    filename, _ = os.path.splitext(basename)\n",
    "    im_gray = cv2.imread(image, cv2.IMREAD_GRAYSCALE)\n",
    "\n",
    "    # resolve the output folder for each image\n",
    "    final_out_path = os.path.join(out_path, filename)\n",
    "    if not os.path.exists(final_out_path):\n",
    "      os.makedirs(final_out_path)\n",
    "\n",
    "    # apply the colormap to the grayscaled image and write it to the filesystem\n",
    "    for color_name, color_val in colormaps.items():\n",
    "      im_color = cv2.applyColorMap(im_gray, color_val)\n",
    "\n",
    "      cv2.imwrite(f\"{final_out_path}/{color_name}.jpg\", im_color)\n",
    "\n",
    "  print(\"Done processing images.\")\n",
    "\n",
    "# execute the main function\n",
    "if __name__ == \"__main__\":\n",
    "  color_map()"
   ]
  },
  {
   "cell_type": "code",
   "execution_count": null,
   "metadata": {},
   "outputs": [],
   "source": []
  }
 ],
 "metadata": {
  "kernelspec": {
   "display_name": "Python 3",
   "language": "python",
   "name": "python3"
  },
  "language_info": {
   "codemirror_mode": {
    "name": "ipython",
    "version": 3
   },
   "file_extension": ".py",
   "mimetype": "text/x-python",
   "name": "python",
   "nbconvert_exporter": "python",
   "pygments_lexer": "ipython3",
   "version": "3.8.3"
  }
 },
 "nbformat": 4,
 "nbformat_minor": 4
}
