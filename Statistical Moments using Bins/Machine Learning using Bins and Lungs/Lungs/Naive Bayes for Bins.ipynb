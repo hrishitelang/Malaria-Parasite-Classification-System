{
 "cells": [
  {
   "cell_type": "markdown",
   "metadata": {
    "colab_type": "text",
    "id": "0MRC0e0KhQ0S"
   },
   "source": [
    "# Naive Bayes"
   ]
  },
  {
   "cell_type": "markdown",
   "metadata": {
    "colab_type": "text",
    "id": "LWd1UlMnhT2s"
   },
   "source": [
    "## Importing the libraries"
   ]
  },
  {
   "cell_type": "code",
   "execution_count": 1,
   "metadata": {
    "colab": {},
    "colab_type": "code",
    "id": "YvGPUQaHhXfL"
   },
   "outputs": [],
   "source": [
    "import numpy as np\n",
    "import matplotlib.pyplot as plt\n",
    "import pandas as pd"
   ]
  },
  {
   "cell_type": "markdown",
   "metadata": {
    "colab_type": "text",
    "id": "K1VMqkGvhc3-"
   },
   "source": [
    "## Importing the dataset"
   ]
  },
  {
   "cell_type": "code",
   "execution_count": 2,
   "metadata": {
    "colab": {},
    "colab_type": "code",
    "id": "M52QDmyzhh9s"
   },
   "outputs": [],
   "source": [
    "dataset = pd.read_csv('image_bins_lungs2.csv')\n",
    "X = dataset[['Bins0','Bins1','Bins2','Bins3','Bins4','Bins5','Bins6','Bins7']]\n",
    "y = dataset.iloc[:, -1].values"
   ]
  },
  {
   "cell_type": "code",
   "execution_count": 3,
   "metadata": {},
   "outputs": [
    {
     "name": "stdout",
     "output_type": "stream",
     "text": [
      "      Bins0  Bins1  Bins2  Bins3  Bins4  Bins5  Bins6  Bins7\n",
      "0      4722  15567      4   7683  12061      1   8864  16634\n",
      "1      6556  13701     25   9956   9437      0  12114  13747\n",
      "2     10512  12249      1  11502   7743      2   9619  13908\n",
      "3      7987  11854      2  10419  11895      9  11931  11439\n",
      "4      7761  14159      4  10898  10560      9   9153  12992\n",
      "...     ...    ...    ...    ...    ...    ...    ...    ...\n",
      "2195   7794  14496      0   9859  11028      0   9656  12703\n",
      "2196   7098   9460      0  11614  15969      0   6950  14445\n",
      "2197   6380  10094      1  11283  13771      0   7565  16442\n",
      "2198   6929  13336      1  10413  11515      0   9202  14140\n",
      "2199   6836   8529      1  11780  16135      0   7419  14836\n",
      "\n",
      "[2200 rows x 8 columns]\n"
     ]
    }
   ],
   "source": [
    "print(X)"
   ]
  },
  {
   "cell_type": "code",
   "execution_count": 4,
   "metadata": {},
   "outputs": [
    {
     "name": "stdout",
     "output_type": "stream",
     "text": [
      "[0 0 0 ... 1 1 1]\n"
     ]
    }
   ],
   "source": [
    "print(y)"
   ]
  },
  {
   "cell_type": "markdown",
   "metadata": {
    "colab_type": "text",
    "id": "YvxIPVyMhmKp"
   },
   "source": [
    "## Splitting the dataset into the Training set and Test set"
   ]
  },
  {
   "cell_type": "code",
   "execution_count": 5,
   "metadata": {
    "colab": {},
    "colab_type": "code",
    "id": "AVzJWAXIhxoC"
   },
   "outputs": [],
   "source": [
    "from sklearn.model_selection import train_test_split\n",
    "X_train, X_test, y_train, y_test = train_test_split(X, y, test_size = 0.25, random_state = 0)"
   ]
  },
  {
   "cell_type": "code",
   "execution_count": 6,
   "metadata": {},
   "outputs": [
    {
     "name": "stdout",
     "output_type": "stream",
     "text": [
      "      Bins0  Bins1  Bins2  Bins3  Bins4  Bins5  Bins6  Bins7\n",
      "1975   8475  12905      0  11641  10736      0   9634  12145\n",
      "1287   6246  11456      1  10791  15010      0   7910  14122\n",
      "760    5554  14950      2  10981  10362      0   6333  17354\n",
      "267    6153   8235     11  12312  15188      3   7149  16485\n",
      "2007   7029  13253      1  11101  11710      0   8136  14306\n",
      "...     ...    ...    ...    ...    ...    ...    ...    ...\n",
      "1033   7778  11617     67  10570  10957      0   5334  19213\n",
      "1731   6294  10413      0  11231  14792      0   7561  15245\n",
      "763    8806  14943      0  12561   7401      0   6238  15587\n",
      "835   14032  12117      2  13589   4487      2   7471  13836\n",
      "1653   6257  13971      0  10085  12201      0   8452  14570\n",
      "\n",
      "[1650 rows x 8 columns]\n"
     ]
    }
   ],
   "source": [
    "print(X_train)"
   ]
  },
  {
   "cell_type": "code",
   "execution_count": 7,
   "metadata": {},
   "outputs": [
    {
     "name": "stdout",
     "output_type": "stream",
     "text": [
      "[1 1 0 ... 0 0 1]\n"
     ]
    }
   ],
   "source": [
    "print(y_train)"
   ]
  },
  {
   "cell_type": "code",
   "execution_count": 8,
   "metadata": {},
   "outputs": [
    {
     "name": "stdout",
     "output_type": "stream",
     "text": [
      "      Bins0  Bins1  Bins2  Bins3  Bins4  Bins5  Bins6  Bins7\n",
      "1320   5966  13036      0  10065  13937      0   7911  14621\n",
      "1367   5360  13600      0  10336  14742      0   6787  14711\n",
      "1291   7988  12159      0  10082   8717      0  14705  11885\n",
      "264   24232  10972   1143    430      0      0      0  28759\n",
      "728   12349  13640     30  12600   2026      0   6485  18406\n",
      "...     ...    ...    ...    ...    ...    ...    ...    ...\n",
      "1999   6645  12845      0  11134  11666      0   8685  14561\n",
      "1171   7119  13970      9   8907  10878      0  12224  12429\n",
      "2136   5599  12454      0  11028  14514      0   7100  14841\n",
      "1882   7046  13604      0  10227  13934      0   7652  13073\n",
      "938    6689  14310      5   9521  10318      0   7465  17228\n",
      "\n",
      "[550 rows x 8 columns]\n"
     ]
    }
   ],
   "source": [
    "print(X_test)"
   ]
  },
  {
   "cell_type": "code",
   "execution_count": 9,
   "metadata": {},
   "outputs": [
    {
     "name": "stdout",
     "output_type": "stream",
     "text": [
      "[1 1 1 0 0 0 0 0 1 0 0 1 0 0 1 1 1 0 1 1 1 0 0 1 1 1 0 1 0 0 0 0 0 1 1 1 1\n",
      " 1 1 0 0 0 0 1 0 0 0 0 1 0 0 0 1 1 0 0 1 1 0 1 1 0 1 0 1 1 1 1 1 1 1 0 0 0\n",
      " 1 0 0 0 1 1 0 0 1 1 1 1 0 0 0 1 0 1 0 1 0 0 1 1 0 0 1 1 0 0 0 0 1 1 0 1 1\n",
      " 1 1 1 1 0 0 0 0 1 0 0 1 0 0 0 0 1 0 1 0 0 1 0 0 0 1 0 1 0 0 1 1 1 0 1 1 1\n",
      " 1 1 1 1 0 0 0 0 1 0 1 1 0 0 1 0 0 1 0 1 0 1 0 1 0 1 1 0 0 0 1 1 0 1 1 0 0\n",
      " 0 1 0 0 1 0 1 0 0 0 1 0 1 0 1 1 0 0 0 0 1 1 0 0 0 0 0 0 1 0 0 1 1 1 0 0 0\n",
      " 0 1 0 1 0 1 1 0 0 0 1 0 0 1 1 0 1 0 0 0 1 0 0 0 1 0 0 1 0 1 0 0 1 1 0 1 1\n",
      " 0 1 1 0 0 1 1 1 0 0 1 1 1 0 0 0 0 0 1 0 0 1 0 0 1 0 1 0 0 0 1 0 1 1 0 1 1\n",
      " 1 0 1 1 0 0 1 1 1 0 1 1 1 1 0 0 0 0 0 1 0 1 0 1 1 1 0 0 1 1 1 0 0 1 0 1 1\n",
      " 1 0 1 0 0 0 1 1 0 1 1 1 1 0 1 1 0 0 1 1 0 1 0 1 1 1 0 0 0 0 1 1 1 0 1 1 0\n",
      " 0 1 1 1 1 1 1 0 1 0 1 0 0 0 0 0 0 0 0 0 0 1 0 1 0 1 1 0 1 0 1 0 0 1 0 1 1\n",
      " 0 0 1 1 0 1 0 0 1 0 0 0 1 1 0 1 1 0 1 0 1 1 0 0 1 1 0 0 0 0 1 0 1 1 1 1 1\n",
      " 0 0 0 0 0 1 0 1 0 1 1 1 0 0 1 1 0 0 1 0 1 0 1 1 0 0 0 0 1 0 1 1 1 0 1 1 1\n",
      " 0 0 1 0 1 1 0 1 0 0 1 1 0 0 0 1 1 1 1 0 1 0 1 1 1 0 1 0 1 1 0 1 1 0 0 0 0\n",
      " 1 0 1 1 1 0 0 0 1 0 1 0 1 1 1 0 1 0 0 0 0 1 1 1 0 1 1 1 1 1 1 0]\n"
     ]
    }
   ],
   "source": [
    "print(y_test)"
   ]
  },
  {
   "cell_type": "markdown",
   "metadata": {
    "colab_type": "text",
    "id": "kW3c7UYih0hT"
   },
   "source": [
    "## Feature Scaling"
   ]
  },
  {
   "cell_type": "code",
   "execution_count": 10,
   "metadata": {
    "colab": {},
    "colab_type": "code",
    "id": "9fQlDPKCh8sc"
   },
   "outputs": [],
   "source": [
    "from sklearn.preprocessing import StandardScaler\n",
    "sc = StandardScaler()\n",
    "X_train = sc.fit_transform(X_train)\n",
    "X_test = sc.transform(X_test)"
   ]
  },
  {
   "cell_type": "code",
   "execution_count": 11,
   "metadata": {},
   "outputs": [
    {
     "name": "stdout",
     "output_type": "stream",
     "text": [
      "[[ 3.30017919e-01  2.50641863e-01 -1.85452806e-01 ... -1.16847411e-01\n",
      "   4.73659672e-01 -9.02529806e-01]\n",
      " [-5.52288578e-01 -3.89729226e-01 -1.61000422e-01 ... -1.16847411e-01\n",
      "  -1.95934922e-01 -1.65176388e-01]\n",
      " [-8.26203381e-01  1.15440920e+00 -1.36548039e-01 ... -1.16847411e-01\n",
      "  -8.08435312e-01  1.04024913e+00]\n",
      " ...\n",
      " [ 4.61037861e-01  1.15131562e+00 -1.85452806e-01 ... -1.16847411e-01\n",
      "  -8.45332926e-01  3.81218532e-01]\n",
      " [ 2.52964879e+00 -9.76068727e-02 -1.36548039e-01 ... -5.01549213e-03\n",
      "  -3.66440737e-01 -2.71844611e-01]\n",
      " [-5.47934441e-01  7.21749924e-01 -1.85452806e-01 ... -1.16847411e-01\n",
      "   1.45756756e-02  1.91229746e-03]]\n"
     ]
    }
   ],
   "source": [
    "print(X_train)"
   ]
  },
  {
   "cell_type": "code",
   "execution_count": 12,
   "metadata": {},
   "outputs": [
    {
     "name": "stdout",
     "output_type": "stream",
     "text": [
      "[[-0.66312116  0.30853601 -0.18545281 ... -0.11684741 -0.19554653\n",
      "   0.02093355]\n",
      " [-0.90299453  0.55779018 -0.18545281 ... -0.11684741 -0.63210356\n",
      "   0.05450048]\n",
      " [ 0.1372484  -0.07904539 -0.18545281 ... -0.11684741  2.44321546\n",
      "  -0.99950092]\n",
      " ...\n",
      " [-0.808391    0.05132691 -0.18545281 ... -0.11684741 -0.51053563\n",
      "   0.10298603]\n",
      " [-0.23562407  0.55955794 -0.18545281 ... -0.11684741 -0.29614107\n",
      "  -0.55641753]\n",
      " [-0.3769356   0.87156759 -0.06319089 ... -0.11684741 -0.36877111\n",
      "   0.99325544]]\n"
     ]
    }
   ],
   "source": [
    "print(X_test)"
   ]
  },
  {
   "cell_type": "markdown",
   "metadata": {
    "colab_type": "text",
    "id": "bb6jCOCQiAmP"
   },
   "source": [
    "## Training the Naive Bayes model on the Training set"
   ]
  },
  {
   "cell_type": "code",
   "execution_count": 13,
   "metadata": {
    "colab": {},
    "colab_type": "code",
    "id": "e0pFVAmciHQs"
   },
   "outputs": [
    {
     "data": {
      "text/plain": [
       "GaussianNB()"
      ]
     },
     "execution_count": 13,
     "metadata": {},
     "output_type": "execute_result"
    }
   ],
   "source": [
    "from sklearn.naive_bayes import GaussianNB\n",
    "classifier = GaussianNB()\n",
    "classifier.fit(X_train, y_train)"
   ]
  },
  {
   "cell_type": "markdown",
   "metadata": {
    "colab_type": "text",
    "id": "h4Hwj34ziWQW"
   },
   "source": [
    "## Making the Confusion Matrix"
   ]
  },
  {
   "cell_type": "code",
   "execution_count": 14,
   "metadata": {
    "colab": {},
    "colab_type": "code",
    "id": "D6bpZwUiiXic"
   },
   "outputs": [
    {
     "name": "stdout",
     "output_type": "stream",
     "text": [
      "[[151 129]\n",
      " [ 17 253]]\n"
     ]
    },
    {
     "data": {
      "text/plain": [
       "0.7345454545454545"
      ]
     },
     "execution_count": 14,
     "metadata": {},
     "output_type": "execute_result"
    }
   ],
   "source": [
    "from sklearn.metrics import confusion_matrix, accuracy_score\n",
    "y_pred = classifier.predict(X_test)\n",
    "cm = confusion_matrix(y_test, y_pred)\n",
    "print(cm)\n",
    "accuracy_score(y_test, y_pred)"
   ]
  },
  {
   "cell_type": "code",
   "execution_count": 15,
   "metadata": {},
   "outputs": [
    {
     "name": "stdout",
     "output_type": "stream",
     "text": [
      "              precision    recall  f1-score   support\n",
      "\n",
      "           0       0.90      0.54      0.67       280\n",
      "           1       0.66      0.94      0.78       270\n",
      "\n",
      "    accuracy                           0.73       550\n",
      "   macro avg       0.78      0.74      0.73       550\n",
      "weighted avg       0.78      0.73      0.72       550\n",
      "\n"
     ]
    }
   ],
   "source": [
    "from sklearn.metrics import classification_report\n",
    "\n",
    "print(classification_report(y_test, y_pred))"
   ]
  },
  {
   "cell_type": "code",
   "execution_count": 16,
   "metadata": {},
   "outputs": [
    {
     "name": "stdout",
     "output_type": "stream",
     "text": [
      "[[151 129]\n",
      " [ 17 253]]\n",
      "Accuracy: 0.735\n",
      "F1 Score: 0.776\n",
      "Sensitivity: 0.937\n",
      "Precision: 0.662\n",
      "Recall: 0.937\n"
     ]
    }
   ],
   "source": [
    "from sklearn import svm, metrics\n",
    "from sklearn.metrics import confusion_matrix\n",
    "import seaborn as sns\n",
    "print(confusion_matrix(y_test, y_pred))\n",
    "\n",
    "print('Accuracy: {0:.3f}'.format(metrics.accuracy_score(y_test, y_pred)))\n",
    "print('F1 Score: {0:.3f}'.format(metrics.f1_score(y_test, y_pred)))\n",
    "print('Sensitivity: {0:.3f}'.format(metrics.recall_score(y_test, y_pred)))\n",
    "print('Precision: {0:.3f}'.format(metrics.precision_score(y_test, y_pred)))\n",
    "print('Recall: {0:.3f}'.format(metrics.recall_score(y_test, y_pred)))"
   ]
  },
  {
   "cell_type": "code",
   "execution_count": 17,
   "metadata": {},
   "outputs": [
    {
     "name": "stdout",
     "output_type": "stream",
     "text": [
      "Accuracy: 71.09 %\n",
      "Standard Deviation: 1.92 %\n"
     ]
    }
   ],
   "source": [
    "from sklearn.model_selection import cross_val_score\n",
    "accuracies = cross_val_score(estimator = classifier, X = X_train, y = y_train, cv = 10)\n",
    "print(\"Accuracy: {:.2f} %\".format(accuracies.mean()*100))\n",
    "print(\"Standard Deviation: {:.2f} %\".format(accuracies.std()*100))"
   ]
  },
  {
   "cell_type": "code",
   "execution_count": null,
   "metadata": {},
   "outputs": [],
   "source": []
  }
 ],
 "metadata": {
  "colab": {
   "authorship_tag": "ABX9TyOGTIf+9kldBIH7ldFOcmv2",
   "collapsed_sections": [],
   "machine_shape": "hm",
   "name": "naive_bayes.ipynb",
   "provenance": [],
   "toc_visible": true
  },
  "kernelspec": {
   "display_name": "Python 3",
   "language": "python",
   "name": "python3"
  },
  "language_info": {
   "codemirror_mode": {
    "name": "ipython",
    "version": 3
   },
   "file_extension": ".py",
   "mimetype": "text/x-python",
   "name": "python",
   "nbconvert_exporter": "python",
   "pygments_lexer": "ipython3",
   "version": "3.8.3"
  }
 },
 "nbformat": 4,
 "nbformat_minor": 1
}
