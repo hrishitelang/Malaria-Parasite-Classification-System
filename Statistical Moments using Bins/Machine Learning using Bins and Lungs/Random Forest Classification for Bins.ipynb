{
 "cells": [
  {
   "cell_type": "markdown",
   "metadata": {
    "colab_type": "text",
    "id": "0MRC0e0KhQ0S"
   },
   "source": [
    "# Random Forest Classification"
   ]
  },
  {
   "cell_type": "markdown",
   "metadata": {
    "colab_type": "text",
    "id": "LWd1UlMnhT2s"
   },
   "source": [
    "## Importing the libraries"
   ]
  },
  {
   "cell_type": "code",
   "execution_count": 1,
   "metadata": {
    "colab": {},
    "colab_type": "code",
    "id": "YvGPUQaHhXfL"
   },
   "outputs": [],
   "source": [
    "import numpy as np\n",
    "import matplotlib.pyplot as plt\n",
    "import pandas as pd"
   ]
  },
  {
   "cell_type": "markdown",
   "metadata": {
    "colab_type": "text",
    "id": "K1VMqkGvhc3-"
   },
   "source": [
    "## Importing the dataset"
   ]
  },
  {
   "cell_type": "code",
   "execution_count": 2,
   "metadata": {
    "colab": {},
    "colab_type": "code",
    "id": "M52QDmyzhh9s"
   },
   "outputs": [],
   "source": [
    "dataset = pd.read_csv('image_bins_all.csv')\n",
    "X = dataset.iloc[:, :-1].values\n",
    "y = dataset.iloc[:, -1].values"
   ]
  },
  {
   "cell_type": "code",
   "execution_count": 3,
   "metadata": {},
   "outputs": [],
   "source": [
    "X = dataset.iloc[:, 1:].values"
   ]
  },
  {
   "cell_type": "code",
   "execution_count": 4,
   "metadata": {},
   "outputs": [
    {
     "name": "stdout",
     "output_type": "stream",
     "text": [
      "[[ 5345    12     0 ...     0 15601     1]\n",
      " [10935     2     0 ...     0 19707     1]\n",
      " [ 5292     2     0 ...     0 15613     1]\n",
      " ...\n",
      " [ 6462     0     0 ...     0 14944     0]\n",
      " [ 6747     0     0 ...     7 13566     0]\n",
      " [ 5241     0     0 ...     0 13555     0]]\n"
     ]
    }
   ],
   "source": [
    "print(X)"
   ]
  },
  {
   "cell_type": "markdown",
   "metadata": {
    "colab_type": "text",
    "id": "YvxIPVyMhmKp"
   },
   "source": [
    "## Splitting the dataset into the Training set and Test set"
   ]
  },
  {
   "cell_type": "code",
   "execution_count": 5,
   "metadata": {
    "colab": {},
    "colab_type": "code",
    "id": "AVzJWAXIhxoC"
   },
   "outputs": [],
   "source": [
    "from sklearn.model_selection import train_test_split\n",
    "X_train, X_test, y_train, y_test = train_test_split(X, y, test_size = 0.25, random_state = 0)"
   ]
  },
  {
   "cell_type": "code",
   "execution_count": 6,
   "metadata": {},
   "outputs": [
    {
     "name": "stdout",
     "output_type": "stream",
     "text": [
      "[[ 5334     0     0 ...     0 10580     1]\n",
      " [ 6504     0     0 ...     0 14485     0]\n",
      " [ 3999     0     0 ...     0 11879     1]\n",
      " ...\n",
      " [ 4580    29     0 ...     0 14414     1]\n",
      " [ 5550     0     0 ...     0  9293     1]\n",
      " [ 3700    99     0 ...     0 10119     1]]\n"
     ]
    }
   ],
   "source": [
    "print(X_train)"
   ]
  },
  {
   "cell_type": "code",
   "execution_count": 7,
   "metadata": {},
   "outputs": [
    {
     "name": "stdout",
     "output_type": "stream",
     "text": [
      "[1 0 1 ... 1 1 1]\n"
     ]
    }
   ],
   "source": [
    "print(y_train)"
   ]
  },
  {
   "cell_type": "code",
   "execution_count": 8,
   "metadata": {},
   "outputs": [
    {
     "name": "stdout",
     "output_type": "stream",
     "text": [
      "[[ 3948     0     0 ...     0 12508     1]\n",
      " [ 5619    18     0 ...     0 11894     1]\n",
      " [ 5700     0     0 ...     0 12682     1]\n",
      " ...\n",
      " [ 4971     0     0 ...     0  9922     1]\n",
      " [ 5229     2     0 ...     0 13103     1]\n",
      " [ 3771     0     0 ...     0 10426     1]]\n"
     ]
    }
   ],
   "source": [
    "print(X_test)"
   ]
  },
  {
   "cell_type": "code",
   "execution_count": 9,
   "metadata": {},
   "outputs": [
    {
     "name": "stdout",
     "output_type": "stream",
     "text": [
      "[1 1 1 ... 1 1 1]\n"
     ]
    }
   ],
   "source": [
    "print(y_test)"
   ]
  },
  {
   "cell_type": "markdown",
   "metadata": {
    "colab_type": "text",
    "id": "kW3c7UYih0hT"
   },
   "source": [
    "## Feature Scaling"
   ]
  },
  {
   "cell_type": "code",
   "execution_count": 10,
   "metadata": {
    "colab": {},
    "colab_type": "code",
    "id": "9fQlDPKCh8sc"
   },
   "outputs": [],
   "source": [
    "from sklearn.preprocessing import StandardScaler\n",
    "sc = StandardScaler()\n",
    "X_train = sc.fit_transform(X_train)\n",
    "X_test = sc.transform(X_test)"
   ]
  },
  {
   "cell_type": "code",
   "execution_count": 11,
   "metadata": {},
   "outputs": [
    {
     "name": "stdout",
     "output_type": "stream",
     "text": [
      "[[ 0.14193965 -0.18795293 -0.05884865 ... -0.07606341 -0.65642826\n",
      "   1.00456598]\n",
      " [ 0.67038318 -0.18795293 -0.05884865 ... -0.07606341  0.72655228\n",
      "  -0.99545477]\n",
      " [-0.46102795 -0.18795293 -0.05884865 ... -0.07606341 -0.19637916\n",
      "   1.00456598]\n",
      " ...\n",
      " [-0.19861284  1.63314085 -0.05884865 ... -0.07606341  0.70140718\n",
      "   1.00456598]\n",
      " [ 0.23949846 -0.18795293 -0.05884865 ... -0.07606341 -1.11222747\n",
      "   1.00456598]\n",
      " [-0.59607463  6.02888445 -0.05884865 ... -0.07606341 -0.81969433\n",
      "   1.00456598]]\n"
     ]
    }
   ],
   "source": [
    "print(X_train)"
   ]
  },
  {
   "cell_type": "code",
   "execution_count": 12,
   "metadata": {},
   "outputs": [
    {
     "name": "stdout",
     "output_type": "stream",
     "text": [
      "[[-0.48406267 -0.18795293 -0.05884865 ... -0.07606341  0.02638518\n",
      "   1.00456598]\n",
      " [ 0.27066308  0.94238114 -0.05884865 ... -0.07606341 -0.19106682\n",
      "   1.00456598]\n",
      " [ 0.30724763 -0.18795293 -0.05884865 ... -0.07606341  0.08800838\n",
      "   1.00456598]\n",
      " ...\n",
      " [-0.02201334 -0.18795293 -0.05884865 ... -0.07606341 -0.88946313\n",
      "   1.00456598]\n",
      " [ 0.09451524 -0.06236025 -0.05884865 ... -0.07606341  0.23710821\n",
      "   1.00456598]\n",
      " [-0.56400669 -0.18795293 -0.05884865 ... -0.07606341 -0.71096833\n",
      "   1.00456598]]\n"
     ]
    }
   ],
   "source": [
    "print(X_test)"
   ]
  },
  {
   "cell_type": "markdown",
   "metadata": {
    "colab_type": "text",
    "id": "bb6jCOCQiAmP"
   },
   "source": [
    "## Training the Random Forest Classification model on the Training set"
   ]
  },
  {
   "cell_type": "code",
   "execution_count": 13,
   "metadata": {
    "colab": {},
    "colab_type": "code",
    "id": "e0pFVAmciHQs"
   },
   "outputs": [
    {
     "data": {
      "text/plain": [
       "RandomForestClassifier(criterion='entropy', n_estimators=10, random_state=0)"
      ]
     },
     "execution_count": 13,
     "metadata": {},
     "output_type": "execute_result"
    }
   ],
   "source": [
    "from sklearn.ensemble import RandomForestClassifier\n",
    "classifier = RandomForestClassifier(n_estimators = 10, criterion = 'entropy', random_state = 0)\n",
    "classifier.fit(X_train, y_train)"
   ]
  },
  {
   "cell_type": "markdown",
   "metadata": {
    "colab_type": "text",
    "id": "h4Hwj34ziWQW"
   },
   "source": [
    "## Making the Confusion Matrix"
   ]
  },
  {
   "cell_type": "code",
   "execution_count": 14,
   "metadata": {
    "colab": {},
    "colab_type": "code",
    "id": "D6bpZwUiiXic"
   },
   "outputs": [
    {
     "name": "stdout",
     "output_type": "stream",
     "text": [
      "[[2959    0]\n",
      " [   0 3041]]\n"
     ]
    },
    {
     "data": {
      "text/plain": [
       "1.0"
      ]
     },
     "execution_count": 14,
     "metadata": {},
     "output_type": "execute_result"
    }
   ],
   "source": [
    "from sklearn.metrics import confusion_matrix, accuracy_score\n",
    "y_pred = classifier.predict(X_test)\n",
    "cm = confusion_matrix(y_test, y_pred)\n",
    "print(cm)\n",
    "accuracy_score(y_test, y_pred)"
   ]
  },
  {
   "cell_type": "code",
   "execution_count": 15,
   "metadata": {},
   "outputs": [
    {
     "name": "stdout",
     "output_type": "stream",
     "text": [
      "              precision    recall  f1-score   support\n",
      "\n",
      "           0       1.00      1.00      1.00      2959\n",
      "           1       1.00      1.00      1.00      3041\n",
      "\n",
      "    accuracy                           1.00      6000\n",
      "   macro avg       1.00      1.00      1.00      6000\n",
      "weighted avg       1.00      1.00      1.00      6000\n",
      "\n"
     ]
    }
   ],
   "source": [
    "from sklearn.metrics import classification_report\n",
    "\n",
    "print(classification_report(y_test, y_pred))"
   ]
  },
  {
   "cell_type": "code",
   "execution_count": 16,
   "metadata": {},
   "outputs": [
    {
     "name": "stdout",
     "output_type": "stream",
     "text": [
      "[[2959    0]\n",
      " [   0 3041]]\n",
      "Accuracy: 1.000\n",
      "F1 Score: 1.000\n",
      "Sensitivity: 1.000\n",
      "Precision: 1.000\n",
      "Recall: 1.000\n"
     ]
    }
   ],
   "source": [
    "from sklearn import svm, metrics\n",
    "from sklearn.metrics import confusion_matrix\n",
    "import seaborn as sns\n",
    "print(confusion_matrix(y_test, y_pred))\n",
    "\n",
    "print('Accuracy: {0:.3f}'.format(metrics.accuracy_score(y_test, y_pred)))\n",
    "print('F1 Score: {0:.3f}'.format(metrics.f1_score(y_test, y_pred)))\n",
    "print('Sensitivity: {0:.3f}'.format(metrics.recall_score(y_test, y_pred)))\n",
    "print('Precision: {0:.3f}'.format(metrics.precision_score(y_test, y_pred)))\n",
    "print('Recall: {0:.3f}'.format(metrics.recall_score(y_test, y_pred)))"
   ]
  },
  {
   "cell_type": "code",
   "execution_count": null,
   "metadata": {},
   "outputs": [],
   "source": []
  }
 ],
 "metadata": {
  "colab": {
   "authorship_tag": "ABX9TyO7WEiuMzZUa4NqDCPC4X/Y",
   "collapsed_sections": [],
   "machine_shape": "hm",
   "name": "random_forest_classification.ipynb",
   "provenance": [],
   "toc_visible": true
  },
  "kernelspec": {
   "display_name": "Python 3",
   "language": "python",
   "name": "python3"
  },
  "language_info": {
   "codemirror_mode": {
    "name": "ipython",
    "version": 3
   },
   "file_extension": ".py",
   "mimetype": "text/x-python",
   "name": "python",
   "nbconvert_exporter": "python",
   "pygments_lexer": "ipython3",
   "version": "3.8.3"
  }
 },
 "nbformat": 4,
 "nbformat_minor": 1
}
