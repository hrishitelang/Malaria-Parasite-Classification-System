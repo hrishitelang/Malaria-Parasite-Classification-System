{
 "cells": [
  {
   "cell_type": "markdown",
   "metadata": {
    "colab_type": "text",
    "id": "0MRC0e0KhQ0S"
   },
   "source": [
    "# Random Forest Classification"
   ]
  },
  {
   "cell_type": "markdown",
   "metadata": {
    "colab_type": "text",
    "id": "LWd1UlMnhT2s"
   },
   "source": [
    "## Importing the libraries"
   ]
  },
  {
   "cell_type": "code",
   "execution_count": 1,
   "metadata": {
    "colab": {},
    "colab_type": "code",
    "id": "YvGPUQaHhXfL"
   },
   "outputs": [],
   "source": [
    "import numpy as np\n",
    "import matplotlib.pyplot as plt\n",
    "import pandas as pd"
   ]
  },
  {
   "cell_type": "markdown",
   "metadata": {
    "colab_type": "text",
    "id": "K1VMqkGvhc3-"
   },
   "source": [
    "## Importing the dataset"
   ]
  },
  {
   "cell_type": "code",
   "execution_count": 2,
   "metadata": {
    "colab": {},
    "colab_type": "code",
    "id": "M52QDmyzhh9s"
   },
   "outputs": [],
   "source": [
    "dataset = pd.read_csv('image_bins_stats_rmean.csv')\n",
    "X = dataset.iloc[:, :-1].values\n",
    "y = dataset.iloc[:, -1].values"
   ]
  },
  {
   "cell_type": "code",
   "execution_count": 3,
   "metadata": {},
   "outputs": [],
   "source": [
    "X = dataset.iloc[:, 1:].values"
   ]
  },
  {
   "cell_type": "code",
   "execution_count": 4,
   "metadata": {},
   "outputs": [
    {
     "name": "stdout",
     "output_type": "stream",
     "text": [
      "[[  1.48568756 116.4166667    0.         ...   0.         159.7700147\n",
      "    1.        ]\n",
      " [  0.1911294   91.           0.         ...   0.         149.8398539\n",
      "    1.        ]\n",
      " [  1.218065   115.           0.         ...   0.         154.1894575\n",
      "    1.        ]\n",
      " ...\n",
      " [  0.21742495   0.           0.         ...   0.         145.9154176\n",
      "    0.        ]\n",
      " [  0.2261746    0.           0.         ... 114.4285714  144.3177797\n",
      "    0.        ]\n",
      " [  0.22343064   0.           0.         ...   0.         141.1554408\n",
      "    0.        ]]\n"
     ]
    }
   ],
   "source": [
    "print(X)"
   ]
  },
  {
   "cell_type": "markdown",
   "metadata": {
    "colab_type": "text",
    "id": "YvxIPVyMhmKp"
   },
   "source": [
    "## Splitting the dataset into the Training set and Test set"
   ]
  },
  {
   "cell_type": "code",
   "execution_count": 5,
   "metadata": {
    "colab": {},
    "colab_type": "code",
    "id": "AVzJWAXIhxoC"
   },
   "outputs": [],
   "source": [
    "from sklearn.model_selection import train_test_split\n",
    "X_train, X_test, y_train, y_test = train_test_split(X, y, test_size = 0.25, random_state = 0)"
   ]
  },
  {
   "cell_type": "code",
   "execution_count": 6,
   "metadata": {},
   "outputs": [
    {
     "name": "stdout",
     "output_type": "stream",
     "text": [
      "[[  0.2727784    0.           0.         ...   0.         160.9055766\n",
      "    1.        ]\n",
      " [  0.33733087   0.           0.         ...   0.         177.4334139\n",
      "    0.        ]\n",
      " [  0.89122281   0.           0.         ...   0.         175.5484468\n",
      "    1.        ]\n",
      " ...\n",
      " [  1.4010917  110.8965517    0.         ...   0.         149.9181351\n",
      "    1.        ]\n",
      " [  0.27243243   0.           0.         ...   0.         158.9433983\n",
      "    1.        ]\n",
      " [  2.46162162 101.8181818    0.         ...   0.         140.4350232\n",
      "    1.        ]]\n"
     ]
    }
   ],
   "source": [
    "print(X_train)"
   ]
  },
  {
   "cell_type": "code",
   "execution_count": 8,
   "metadata": {},
   "outputs": [
    {
     "name": "stdout",
     "output_type": "stream",
     "text": [
      "[1 0 1 ... 1 1 1]\n"
     ]
    }
   ],
   "source": [
    "print(y_train)"
   ]
  },
  {
   "cell_type": "code",
   "execution_count": 7,
   "metadata": {},
   "outputs": [
    {
     "name": "stdout",
     "output_type": "stream",
     "text": [
      "[[6.87943262e-01 0.00000000e+00 0.00000000e+00 ... 0.00000000e+00\n",
      "  1.71546210e+02 1.00000000e+00]\n",
      " [1.97722015e-01 1.01444444e+02 0.00000000e+00 ... 0.00000000e+00\n",
      "  1.50751387e+02 1.00000000e+00]\n",
      " [3.01754386e-01 0.00000000e+00 0.00000000e+00 ... 0.00000000e+00\n",
      "  1.84260842e+02 1.00000000e+00]\n",
      " ...\n",
      " [1.82860591e-01 0.00000000e+00 0.00000000e+00 ... 0.00000000e+00\n",
      "  1.39794598e+02 1.00000000e+00]\n",
      " [2.62574106e-01 1.04500000e+02 0.00000000e+00 ... 0.00000000e+00\n",
      "  1.46185912e+02 1.00000000e+00]\n",
      " [7.41713073e-01 0.00000000e+00 0.00000000e+00 ... 0.00000000e+00\n",
      "  1.73090543e+02 1.00000000e+00]]\n"
     ]
    }
   ],
   "source": [
    "print(X_test)"
   ]
  },
  {
   "cell_type": "code",
   "execution_count": 9,
   "metadata": {},
   "outputs": [
    {
     "name": "stdout",
     "output_type": "stream",
     "text": [
      "[1 1 1 ... 1 1 1]\n"
     ]
    }
   ],
   "source": [
    "print(y_test)"
   ]
  },
  {
   "cell_type": "markdown",
   "metadata": {
    "colab_type": "text",
    "id": "kW3c7UYih0hT"
   },
   "source": [
    "## Feature Scaling"
   ]
  },
  {
   "cell_type": "code",
   "execution_count": 10,
   "metadata": {
    "colab": {},
    "colab_type": "code",
    "id": "9fQlDPKCh8sc"
   },
   "outputs": [],
   "source": [
    "from sklearn.preprocessing import StandardScaler\n",
    "sc = StandardScaler()\n",
    "X_train = sc.fit_transform(X_train)\n",
    "X_test = sc.transform(X_test)"
   ]
  },
  {
   "cell_type": "code",
   "execution_count": 11,
   "metadata": {},
   "outputs": [
    {
     "name": "stdout",
     "output_type": "stream",
     "text": [
      "[[-0.43464389 -0.48040164 -0.09754058 ... -0.24405691 -0.08072605\n",
      "   1.00456598]\n",
      " [-0.34474473 -0.48040164 -0.09754058 ... -0.24405691  0.91543395\n",
      "  -0.99545477]\n",
      " [ 0.4266343  -0.48040164 -0.09754058 ... -0.24405691  0.80182388\n",
      "   1.00456598]\n",
      " ...\n",
      " [ 1.13670453  2.16232891 -0.09754058 ... -0.24405691 -0.74295726\n",
      "   1.00456598]\n",
      " [-0.43512571 -0.48040164 -0.09754058 ... -0.24405691 -0.19898977\n",
      "   1.00456598]\n",
      " [ 2.61365425  1.94598597 -0.09754058 ... -0.24405691 -1.31452005\n",
      "   1.00456598]]\n"
     ]
    }
   ],
   "source": [
    "print(X_train)"
   ]
  },
  {
   "cell_type": "code",
   "execution_count": 12,
   "metadata": {},
   "outputs": [
    {
     "name": "stdout",
     "output_type": "stream",
     "text": [
      "[[ 0.14353652 -0.48040164 -0.09754058 ... -0.24405691  0.56060249\n",
      "   1.00456598]\n",
      " [-0.53917136  1.93707959 -0.09754058 ... -0.24405691 -0.69273578\n",
      "   1.00456598]\n",
      " [-0.39429041 -0.48040164 -0.09754058 ... -0.24405691  1.32693431\n",
      "   1.00456598]\n",
      " ...\n",
      " [-0.55986816 -0.48040164 -0.09754058 ... -0.24405691 -1.35311954\n",
      "   1.00456598]\n",
      " [-0.44885493  2.00989529 -0.09754058 ... -0.24405691 -0.96790453\n",
      "   1.00456598]\n",
      " [ 0.21841918 -0.48040164 -0.09754058 ... -0.24405691  0.65368196\n",
      "   1.00456598]]\n"
     ]
    }
   ],
   "source": [
    "print(X_test)"
   ]
  },
  {
   "cell_type": "markdown",
   "metadata": {
    "colab_type": "text",
    "id": "bb6jCOCQiAmP"
   },
   "source": [
    "## Training the Random Forest Classification model on the Training set"
   ]
  },
  {
   "cell_type": "code",
   "execution_count": 13,
   "metadata": {
    "colab": {},
    "colab_type": "code",
    "id": "e0pFVAmciHQs"
   },
   "outputs": [
    {
     "data": {
      "text/plain": [
       "RandomForestClassifier(criterion='entropy', n_estimators=10, random_state=0)"
      ]
     },
     "execution_count": 13,
     "metadata": {},
     "output_type": "execute_result"
    }
   ],
   "source": [
    "from sklearn.ensemble import RandomForestClassifier\n",
    "classifier = RandomForestClassifier(n_estimators = 10, criterion = 'entropy', random_state = 0)\n",
    "classifier.fit(X_train, y_train)"
   ]
  },
  {
   "cell_type": "markdown",
   "metadata": {
    "colab_type": "text",
    "id": "h4Hwj34ziWQW"
   },
   "source": [
    "## Making the Confusion Matrix"
   ]
  },
  {
   "cell_type": "code",
   "execution_count": 14,
   "metadata": {
    "colab": {},
    "colab_type": "code",
    "id": "D6bpZwUiiXic"
   },
   "outputs": [
    {
     "name": "stdout",
     "output_type": "stream",
     "text": [
      "[[2959    0]\n",
      " [   0 3041]]\n"
     ]
    },
    {
     "data": {
      "text/plain": [
       "1.0"
      ]
     },
     "execution_count": 14,
     "metadata": {},
     "output_type": "execute_result"
    }
   ],
   "source": [
    "from sklearn.metrics import confusion_matrix, accuracy_score\n",
    "y_pred = classifier.predict(X_test)\n",
    "cm = confusion_matrix(y_test, y_pred)\n",
    "print(cm)\n",
    "accuracy_score(y_test, y_pred)"
   ]
  },
  {
   "cell_type": "code",
   "execution_count": 15,
   "metadata": {},
   "outputs": [
    {
     "name": "stdout",
     "output_type": "stream",
     "text": [
      "              precision    recall  f1-score   support\n",
      "\n",
      "           0       1.00      1.00      1.00      2959\n",
      "           1       1.00      1.00      1.00      3041\n",
      "\n",
      "    accuracy                           1.00      6000\n",
      "   macro avg       1.00      1.00      1.00      6000\n",
      "weighted avg       1.00      1.00      1.00      6000\n",
      "\n"
     ]
    }
   ],
   "source": [
    "from sklearn.metrics import classification_report\n",
    "\n",
    "print(classification_report(y_test, y_pred))"
   ]
  },
  {
   "cell_type": "code",
   "execution_count": 16,
   "metadata": {},
   "outputs": [
    {
     "name": "stdout",
     "output_type": "stream",
     "text": [
      "[[2959    0]\n",
      " [   0 3041]]\n",
      "Accuracy: 1.000\n",
      "F1 Score: 1.000\n",
      "Sensitivity: 1.000\n",
      "Precision: 1.000\n",
      "Recall: 1.000\n"
     ]
    }
   ],
   "source": [
    "from sklearn import svm, metrics\n",
    "from sklearn.metrics import confusion_matrix\n",
    "import seaborn as sns\n",
    "print(confusion_matrix(y_test, y_pred))\n",
    "\n",
    "print('Accuracy: {0:.3f}'.format(metrics.accuracy_score(y_test, y_pred)))\n",
    "print('F1 Score: {0:.3f}'.format(metrics.f1_score(y_test, y_pred)))\n",
    "print('Sensitivity: {0:.3f}'.format(metrics.recall_score(y_test, y_pred)))\n",
    "print('Precision: {0:.3f}'.format(metrics.precision_score(y_test, y_pred)))\n",
    "print('Recall: {0:.3f}'.format(metrics.recall_score(y_test, y_pred)))"
   ]
  },
  {
   "cell_type": "code",
   "execution_count": null,
   "metadata": {},
   "outputs": [],
   "source": []
  }
 ],
 "metadata": {
  "colab": {
   "authorship_tag": "ABX9TyO7WEiuMzZUa4NqDCPC4X/Y",
   "collapsed_sections": [],
   "machine_shape": "hm",
   "name": "random_forest_classification.ipynb",
   "provenance": [],
   "toc_visible": true
  },
  "kernelspec": {
   "display_name": "Python 3",
   "language": "python",
   "name": "python3"
  },
  "language_info": {
   "codemirror_mode": {
    "name": "ipython",
    "version": 3
   },
   "file_extension": ".py",
   "mimetype": "text/x-python",
   "name": "python",
   "nbconvert_exporter": "python",
   "pygments_lexer": "ipython3",
   "version": "3.8.3"
  }
 },
 "nbformat": 4,
 "nbformat_minor": 1
}
