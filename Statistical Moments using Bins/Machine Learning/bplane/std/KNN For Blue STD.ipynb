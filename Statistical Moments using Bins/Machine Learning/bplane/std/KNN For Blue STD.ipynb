{
 "cells": [
  {
   "cell_type": "markdown",
   "metadata": {
    "colab_type": "text",
    "id": "0MRC0e0KhQ0S"
   },
   "source": [
    "# K-Nearest Neighbors (K-NN)"
   ]
  },
  {
   "cell_type": "markdown",
   "metadata": {
    "colab_type": "text",
    "id": "LWd1UlMnhT2s"
   },
   "source": [
    "## Importing the libraries"
   ]
  },
  {
   "cell_type": "code",
   "execution_count": 1,
   "metadata": {
    "colab": {},
    "colab_type": "code",
    "id": "YvGPUQaHhXfL"
   },
   "outputs": [],
   "source": [
    "import numpy as np\n",
    "import matplotlib.pyplot as plt\n",
    "import pandas as pd"
   ]
  },
  {
   "cell_type": "markdown",
   "metadata": {
    "colab_type": "text",
    "id": "K1VMqkGvhc3-"
   },
   "source": [
    "## Importing the dataset"
   ]
  },
  {
   "cell_type": "code",
   "execution_count": 2,
   "metadata": {
    "colab": {},
    "colab_type": "code",
    "id": "M52QDmyzhh9s"
   },
   "outputs": [],
   "source": [
    "dataset = pd.read_csv('image_bins_stats_bstd.csv')\n",
    "X = dataset[['bstd_bins0','bstd_bins1','bstd_bins2','bstd_bins3','bstd_bins4','bstd_bins5','bstd_bins6','bstd_bins7']]\n",
    "y = dataset.iloc[:, -1].values"
   ]
  },
  {
   "cell_type": "code",
   "execution_count": 3,
   "metadata": {},
   "outputs": [
    {
     "name": "stdout",
     "output_type": "stream",
     "text": [
      "       bstd_bins0  bstd_bins1  bstd_bins2  bstd_bins3  bstd_bins4  bstd_bins5  \\\n",
      "0       16.049200    2.289502         0.0         0.0    0.000000    7.165589   \n",
      "1        3.308282    0.707107         0.0         0.0    0.000000   11.991367   \n",
      "2       14.322616    0.353553         0.0         0.0    5.876929    9.913628   \n",
      "3        3.045115    2.077074         0.0         0.0    0.000000    9.200093   \n",
      "4        3.343711    0.000000         0.0         0.0    0.000000    0.000000   \n",
      "...           ...         ...         ...         ...         ...         ...   \n",
      "23995    3.820777    0.000000         0.0         0.0    0.000000    0.000000   \n",
      "23996    3.785639    0.000000         0.0         0.0    0.000000    0.000000   \n",
      "23997    3.741288    0.000000         0.0         0.0    0.000000    0.000000   \n",
      "23998    3.503925    0.000000         0.0         0.0    0.000000    0.000000   \n",
      "23999    4.148065    0.000000         0.0         0.0    0.000000    0.000000   \n",
      "\n",
      "       bstd_bins6  bstd_bins7  \n",
      "0        0.000000    5.713444  \n",
      "1        0.000000    6.559985  \n",
      "2        0.000000    5.496118  \n",
      "3        0.000000    7.041592  \n",
      "4        0.000000    5.665974  \n",
      "...           ...         ...  \n",
      "23995    0.000000    5.262551  \n",
      "23996    0.000000    5.407731  \n",
      "23997    0.000000    5.073114  \n",
      "23998   10.538515    7.435542  \n",
      "23999    0.000000    5.593772  \n",
      "\n",
      "[24000 rows x 8 columns]\n"
     ]
    }
   ],
   "source": [
    "print(X)"
   ]
  },
  {
   "cell_type": "code",
   "execution_count": 4,
   "metadata": {},
   "outputs": [
    {
     "name": "stdout",
     "output_type": "stream",
     "text": [
      "[1 1 1 ... 0 0 0]\n"
     ]
    }
   ],
   "source": [
    "print(y)"
   ]
  },
  {
   "cell_type": "markdown",
   "metadata": {
    "colab_type": "text",
    "id": "YvxIPVyMhmKp"
   },
   "source": [
    "## Splitting the dataset into the Training set and Test set"
   ]
  },
  {
   "cell_type": "code",
   "execution_count": 5,
   "metadata": {
    "colab": {},
    "colab_type": "code",
    "id": "AVzJWAXIhxoC"
   },
   "outputs": [],
   "source": [
    "from sklearn.model_selection import train_test_split\n",
    "X_train, X_test, y_train, y_test = train_test_split(X, y, test_size = 0.25, random_state = 0)"
   ]
  },
  {
   "cell_type": "code",
   "execution_count": 6,
   "metadata": {},
   "outputs": [
    {
     "name": "stdout",
     "output_type": "stream",
     "text": [
      "       bstd_bins0  bstd_bins1  bstd_bins2  bstd_bins3  bstd_bins4  bstd_bins5  \\\n",
      "11524    2.462189    0.000000         0.0         0.0    0.000000    6.636120   \n",
      "15653    0.700565    0.000000         0.0         0.0    0.000000    0.000000   \n",
      "7256     0.730785    0.000000         0.0         0.0    4.897551    8.710600   \n",
      "15235    1.123231    0.000000         0.0         0.0    0.000000    0.000000   \n",
      "9717     9.464486    2.238137         0.0         0.0    3.818913    7.222075   \n",
      "...           ...         ...         ...         ...         ...         ...   \n",
      "13123    3.567899    0.000000         0.0         0.0    0.000000    0.000000   \n",
      "19648    0.707402    0.000000         0.0         0.0    0.000000    0.000000   \n",
      "9845    14.237212    5.323906         0.0         0.0    1.509482    9.206914   \n",
      "10799    3.158148    0.000000         0.0         0.0    0.000000    3.307752   \n",
      "2732    19.035945    3.167779         0.0         0.0    0.000000    8.054865   \n",
      "\n",
      "       bstd_bins6  bstd_bins7  \n",
      "11524         0.0    4.832579  \n",
      "15653         0.0   10.208454  \n",
      "7256          0.0   11.491083  \n",
      "15235         0.0    8.139099  \n",
      "9717          0.0    5.718342  \n",
      "...           ...         ...  \n",
      "13123         0.0   15.224769  \n",
      "19648         0.0    7.137580  \n",
      "9845          0.0    6.753078  \n",
      "10799         0.0    7.972505  \n",
      "2732          0.0    7.259500  \n",
      "\n",
      "[18000 rows x 8 columns]\n"
     ]
    }
   ],
   "source": [
    "print(X_train)"
   ]
  },
  {
   "cell_type": "code",
   "execution_count": 7,
   "metadata": {},
   "outputs": [
    {
     "name": "stdout",
     "output_type": "stream",
     "text": [
      "[1 0 1 ... 1 1 1]\n"
     ]
    }
   ],
   "source": [
    "print(y_train)"
   ]
  },
  {
   "cell_type": "code",
   "execution_count": 8,
   "metadata": {},
   "outputs": [
    {
     "name": "stdout",
     "output_type": "stream",
     "text": [
      "       bstd_bins0  bstd_bins1  bstd_bins2  bstd_bins3  bstd_bins4  bstd_bins5  \\\n",
      "5118     1.164218    0.000000         0.0         0.0    0.000000    0.000000   \n",
      "10284    3.688101    1.718037         0.0         0.0    0.000000    8.675163   \n",
      "6208     0.639308    0.000000         0.0         0.0    0.000000    3.517225   \n",
      "3361    17.455010    3.017825         0.0         0.0    0.000000    9.825642   \n",
      "7068     0.793672    0.000000         0.0         0.0    0.000000    8.448370   \n",
      "...           ...         ...         ...         ...         ...         ...   \n",
      "15607    1.236646    0.000000         0.0         0.0    0.000000    2.412471   \n",
      "9154    19.878765    1.301518         0.0         0.0    5.919044    6.890599   \n",
      "3464     3.373206    0.000000         0.0         0.0    0.000000    8.452198   \n",
      "9808     3.544724    0.353553         0.0         0.0    1.335935    8.072601   \n",
      "6956     0.719335    0.000000         0.0         0.0    0.000000    6.639750   \n",
      "\n",
      "       bstd_bins6  bstd_bins7  \n",
      "5118          0.0    9.357540  \n",
      "10284         0.0    7.099198  \n",
      "6208          0.0    5.742985  \n",
      "3361          0.0    6.524274  \n",
      "7068          0.0    9.020817  \n",
      "...           ...         ...  \n",
      "15607         0.0   18.582094  \n",
      "9154          0.0    5.262858  \n",
      "3464          0.0    5.775297  \n",
      "9808          0.0    6.108698  \n",
      "6956          0.0   11.168148  \n",
      "\n",
      "[6000 rows x 8 columns]\n"
     ]
    }
   ],
   "source": [
    "print(X_test)"
   ]
  },
  {
   "cell_type": "code",
   "execution_count": 9,
   "metadata": {},
   "outputs": [
    {
     "name": "stdout",
     "output_type": "stream",
     "text": [
      "[1 1 1 ... 1 1 1]\n"
     ]
    }
   ],
   "source": [
    "print(y_test)"
   ]
  },
  {
   "cell_type": "markdown",
   "metadata": {
    "colab_type": "text",
    "id": "kW3c7UYih0hT"
   },
   "source": [
    "## Feature Scaling"
   ]
  },
  {
   "cell_type": "code",
   "execution_count": 10,
   "metadata": {
    "colab": {},
    "colab_type": "code",
    "id": "9fQlDPKCh8sc"
   },
   "outputs": [],
   "source": [
    "from sklearn.preprocessing import StandardScaler\n",
    "sc = StandardScaler()\n",
    "X_train = sc.fit_transform(X_train)\n",
    "X_test = sc.transform(X_test)"
   ]
  },
  {
   "cell_type": "code",
   "execution_count": 11,
   "metadata": {},
   "outputs": [
    {
     "name": "stdout",
     "output_type": "stream",
     "text": [
      "[[-0.34126195 -0.35966761 -0.05321077 ...  0.65019931 -0.15555019\n",
      "  -0.79206692]\n",
      " [-0.72218256 -0.35966761 -0.05321077 ... -0.85101294 -0.15555019\n",
      "   1.17706822]\n",
      " [-0.71564784 -0.35966761 -0.05321077 ...  1.11948501 -0.15555019\n",
      "   1.64688372]\n",
      " ...\n",
      " [ 2.204882    4.69503956 -0.05321077 ...  1.23176025 -0.15555019\n",
      "  -0.0886051 ]\n",
      " [-0.19077279 -0.35966761 -0.05321077 ... -0.10273866 -0.15555019\n",
      "   0.35805987]\n",
      " [ 3.24252462  2.64793579 -0.05321077 ...  0.97114558 -0.15555019\n",
      "   0.09689265]]\n"
     ]
    }
   ],
   "source": [
    "print(X_train)"
   ]
  },
  {
   "cell_type": "code",
   "execution_count": 12,
   "metadata": {},
   "outputs": [
    {
     "name": "stdout",
     "output_type": "stream",
     "text": [
      "[[-0.62192552 -0.35966761 -0.05321077 ... -0.85101294 -0.15555019\n",
      "   0.86538581]\n",
      " [-0.07617972  1.27149811 -0.05321077 ...  1.11146848 -0.15555019\n",
      "   0.03817552]\n",
      " [-0.73542832 -0.35966761 -0.05321077 ... -0.05535196 -0.15555019\n",
      "  -0.45859311]\n",
      " ...\n",
      " [-0.14427024 -0.35966761 -0.05321077 ...  1.06102959 -0.15555019\n",
      "  -0.44675755]\n",
      " [-0.10718265 -0.02399134 -0.05321077 ...  0.97515788 -0.15555019\n",
      "  -0.32463582]\n",
      " [-0.71812382 -0.35966761 -0.05321077 ...  0.65102049 -0.15555019\n",
      "   1.52859537]]\n"
     ]
    }
   ],
   "source": [
    "print(X_test)"
   ]
  },
  {
   "cell_type": "markdown",
   "metadata": {
    "colab_type": "text",
    "id": "bb6jCOCQiAmP"
   },
   "source": [
    "## Training the K-NN model on the Training set"
   ]
  },
  {
   "cell_type": "code",
   "execution_count": 13,
   "metadata": {
    "colab": {},
    "colab_type": "code",
    "id": "e0pFVAmciHQs"
   },
   "outputs": [
    {
     "data": {
      "text/plain": [
       "KNeighborsClassifier()"
      ]
     },
     "execution_count": 13,
     "metadata": {},
     "output_type": "execute_result"
    }
   ],
   "source": [
    "from sklearn.neighbors import KNeighborsClassifier\n",
    "classifier = KNeighborsClassifier(n_neighbors = 5, metric = 'minkowski', p = 2)\n",
    "classifier.fit(X_train, y_train)"
   ]
  },
  {
   "cell_type": "markdown",
   "metadata": {
    "colab_type": "text",
    "id": "h4Hwj34ziWQW"
   },
   "source": [
    "## Making the Confusion Matrix"
   ]
  },
  {
   "cell_type": "code",
   "execution_count": 14,
   "metadata": {
    "colab": {},
    "colab_type": "code",
    "id": "D6bpZwUiiXic"
   },
   "outputs": [
    {
     "name": "stdout",
     "output_type": "stream",
     "text": [
      "[[2857  102]\n",
      " [ 220 2821]]\n"
     ]
    },
    {
     "data": {
      "text/plain": [
       "0.9463333333333334"
      ]
     },
     "execution_count": 14,
     "metadata": {},
     "output_type": "execute_result"
    }
   ],
   "source": [
    "from sklearn.metrics import confusion_matrix, accuracy_score\n",
    "y_pred = classifier.predict(X_test)\n",
    "cm = confusion_matrix(y_test, y_pred)\n",
    "print(cm)\n",
    "accuracy_score(y_test, y_pred)"
   ]
  },
  {
   "cell_type": "code",
   "execution_count": 15,
   "metadata": {},
   "outputs": [
    {
     "name": "stdout",
     "output_type": "stream",
     "text": [
      "              precision    recall  f1-score   support\n",
      "\n",
      "           0       0.93      0.97      0.95      2959\n",
      "           1       0.97      0.93      0.95      3041\n",
      "\n",
      "    accuracy                           0.95      6000\n",
      "   macro avg       0.95      0.95      0.95      6000\n",
      "weighted avg       0.95      0.95      0.95      6000\n",
      "\n"
     ]
    }
   ],
   "source": [
    "from sklearn.metrics import classification_report\n",
    "\n",
    "print(classification_report(y_test, y_pred))"
   ]
  },
  {
   "cell_type": "code",
   "execution_count": 16,
   "metadata": {},
   "outputs": [
    {
     "name": "stdout",
     "output_type": "stream",
     "text": [
      "[[2857  102]\n",
      " [ 220 2821]]\n",
      "Accuracy: 0.946\n",
      "F1 Score: 0.946\n",
      "Sensitivity: 0.928\n",
      "Precision: 0.965\n",
      "Recall: 0.928\n"
     ]
    }
   ],
   "source": [
    "from sklearn import svm, metrics\n",
    "from sklearn.metrics import confusion_matrix\n",
    "import seaborn as sns\n",
    "print(confusion_matrix(y_test, y_pred))\n",
    "\n",
    "print('Accuracy: {0:.3f}'.format(metrics.accuracy_score(y_test, y_pred)))\n",
    "print('F1 Score: {0:.3f}'.format(metrics.f1_score(y_test, y_pred)))\n",
    "print('Sensitivity: {0:.3f}'.format(metrics.recall_score(y_test, y_pred)))\n",
    "print('Precision: {0:.3f}'.format(metrics.precision_score(y_test, y_pred)))\n",
    "print('Recall: {0:.3f}'.format(metrics.recall_score(y_test, y_pred)))"
   ]
  },
  {
   "cell_type": "code",
   "execution_count": 17,
   "metadata": {},
   "outputs": [
    {
     "name": "stdout",
     "output_type": "stream",
     "text": [
      "Accuracy: 95.09 %\n",
      "Standard Deviation: 0.43 %\n"
     ]
    }
   ],
   "source": [
    "from sklearn.model_selection import cross_val_score\n",
    "accuracies = cross_val_score(estimator = classifier, X = X_train, y = y_train, cv = 10)\n",
    "print(\"Accuracy: {:.2f} %\".format(accuracies.mean()*100))\n",
    "print(\"Standard Deviation: {:.2f} %\".format(accuracies.std()*100))"
   ]
  },
  {
   "cell_type": "code",
   "execution_count": null,
   "metadata": {},
   "outputs": [],
   "source": []
  }
 ],
 "metadata": {
  "colab": {
   "authorship_tag": "ABX9TyPs7cIfhPsV/MgzyHAv5eqh",
   "collapsed_sections": [],
   "machine_shape": "hm",
   "name": "k_nearest_neighbors.ipynb",
   "provenance": [],
   "toc_visible": true
  },
  "kernelspec": {
   "display_name": "Python 3",
   "language": "python",
   "name": "python3"
  },
  "language_info": {
   "codemirror_mode": {
    "name": "ipython",
    "version": 3
   },
   "file_extension": ".py",
   "mimetype": "text/x-python",
   "name": "python",
   "nbconvert_exporter": "python",
   "pygments_lexer": "ipython3",
   "version": "3.8.3"
  }
 },
 "nbformat": 4,
 "nbformat_minor": 1
}
