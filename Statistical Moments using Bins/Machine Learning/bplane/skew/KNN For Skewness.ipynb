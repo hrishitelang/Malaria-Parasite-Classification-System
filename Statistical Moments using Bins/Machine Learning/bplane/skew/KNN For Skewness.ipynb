{
 "cells": [
  {
   "cell_type": "markdown",
   "metadata": {
    "colab_type": "text",
    "id": "0MRC0e0KhQ0S"
   },
   "source": [
    "# K-Nearest Neighbors (K-NN)"
   ]
  },
  {
   "cell_type": "markdown",
   "metadata": {
    "colab_type": "text",
    "id": "LWd1UlMnhT2s"
   },
   "source": [
    "## Importing the libraries"
   ]
  },
  {
   "cell_type": "code",
   "execution_count": 1,
   "metadata": {
    "colab": {},
    "colab_type": "code",
    "id": "YvGPUQaHhXfL"
   },
   "outputs": [],
   "source": [
    "import numpy as np\n",
    "import matplotlib.pyplot as plt\n",
    "import pandas as pd"
   ]
  },
  {
   "cell_type": "markdown",
   "metadata": {
    "colab_type": "text",
    "id": "K1VMqkGvhc3-"
   },
   "source": [
    "## Importing the dataset"
   ]
  },
  {
   "cell_type": "code",
   "execution_count": 2,
   "metadata": {
    "colab": {},
    "colab_type": "code",
    "id": "M52QDmyzhh9s"
   },
   "outputs": [],
   "source": [
    "dataset = pd.read_csv('image_bins_stats_bskew.csv')\n",
    "X = dataset[['bskew_bins0','bskew_bins1','bskew_bins2','bskew_bins3','bskew_bins4','bskew_bins5','bskew_bins6','bskew_bins7']]\n",
    "y = dataset.iloc[:, -1].values"
   ]
  },
  {
   "cell_type": "code",
   "execution_count": 3,
   "metadata": {},
   "outputs": [
    {
     "name": "stdout",
     "output_type": "stream",
     "text": [
      "       bskew_bins0  bskew_bins1  bskew_bins2  bskew_bins3  bskew_bins4  \\\n",
      "0        32.843447     2.701954          0.0          0.0     0.000000   \n",
      "1         5.277079     0.793701          0.0          0.0     0.000000   \n",
      "2        29.440846     0.396850          0.0          0.0     6.863098   \n",
      "3         4.902997     2.390244          0.0          0.0     0.000000   \n",
      "4         5.179433     0.000000          0.0          0.0     0.000000   \n",
      "...            ...          ...          ...          ...          ...   \n",
      "23995     3.820777     0.000000          0.0          0.0     0.000000   \n",
      "23996     3.785639     0.000000          0.0          0.0     0.000000   \n",
      "23997     3.741288     0.000000          0.0          0.0     0.000000   \n",
      "23998     3.503925     0.000000          0.0          0.0     0.000000   \n",
      "23999     4.148065     0.000000          0.0          0.0     0.000000   \n",
      "\n",
      "       bskew_bins5  bskew_bins6  bskew_bins7  \n",
      "0         7.871852     0.000000     7.358843  \n",
      "1        13.636860     0.000000     8.430080  \n",
      "2        11.919441     0.000000     7.949709  \n",
      "3        11.037378     0.000000     8.987692  \n",
      "4         0.000000     0.000000     7.204324  \n",
      "...            ...          ...          ...  \n",
      "23995     0.000000     0.000000     5.262551  \n",
      "23996     0.000000     0.000000     5.407731  \n",
      "23997     0.000000     0.000000     5.073114  \n",
      "23998     0.000000    10.538515     7.435542  \n",
      "23999     0.000000     0.000000     5.593772  \n",
      "\n",
      "[24000 rows x 8 columns]\n"
     ]
    }
   ],
   "source": [
    "print(X)"
   ]
  },
  {
   "cell_type": "code",
   "execution_count": 4,
   "metadata": {},
   "outputs": [
    {
     "name": "stdout",
     "output_type": "stream",
     "text": [
      "[1 1 1 ... 0 0 0]\n"
     ]
    }
   ],
   "source": [
    "print(y)"
   ]
  },
  {
   "cell_type": "markdown",
   "metadata": {
    "colab_type": "text",
    "id": "YvxIPVyMhmKp"
   },
   "source": [
    "## Splitting the dataset into the Training set and Test set"
   ]
  },
  {
   "cell_type": "code",
   "execution_count": 5,
   "metadata": {
    "colab": {},
    "colab_type": "code",
    "id": "AVzJWAXIhxoC"
   },
   "outputs": [],
   "source": [
    "from sklearn.model_selection import train_test_split\n",
    "X_train, X_test, y_train, y_test = train_test_split(X, y, test_size = 0.25, random_state = 0)"
   ]
  },
  {
   "cell_type": "code",
   "execution_count": 6,
   "metadata": {},
   "outputs": [
    {
     "name": "stdout",
     "output_type": "stream",
     "text": [
      "       bskew_bins0  bskew_bins1  bskew_bins2  bskew_bins3  bskew_bins4  \\\n",
      "11524     3.600737     0.000000          0.0          0.0     0.000000   \n",
      "15653     0.700565     0.000000          0.0          0.0     0.000000   \n",
      "7256      1.139135     0.000000          0.0          0.0     5.726467   \n",
      "15235     1.123231     0.000000          0.0          0.0     0.000000   \n",
      "9717     21.224799     2.511144          0.0          0.0     4.517168   \n",
      "...            ...          ...          ...          ...          ...   \n",
      "13123     3.567899     0.000000          0.0          0.0     0.000000   \n",
      "19648     0.707402     0.000000          0.0          0.0     0.000000   \n",
      "9845     29.594795     5.929854          0.0          0.0     1.681071   \n",
      "10799     4.966372     0.000000          0.0          0.0     0.000000   \n",
      "2732     34.492614     3.638295          0.0          0.0     0.000000   \n",
      "\n",
      "       bskew_bins5  bskew_bins6  bskew_bins7  \n",
      "11524     7.516509          0.0     6.581319  \n",
      "15653     0.000000          0.0    10.208454  \n",
      "7256      9.743945          0.0    14.766382  \n",
      "15235     0.000000          0.0     8.139099  \n",
      "9717      8.090295          0.0     7.953784  \n",
      "...            ...          ...          ...  \n",
      "13123     0.000000          0.0    15.224769  \n",
      "19648     0.000000          0.0     7.137580  \n",
      "9845     10.512188          0.0     9.183102  \n",
      "10799     3.754197          0.0    10.071514  \n",
      "2732      8.848081          0.0    10.226287  \n",
      "\n",
      "[18000 rows x 8 columns]\n"
     ]
    }
   ],
   "source": [
    "print(X_train)"
   ]
  },
  {
   "cell_type": "code",
   "execution_count": 7,
   "metadata": {},
   "outputs": [
    {
     "name": "stdout",
     "output_type": "stream",
     "text": [
      "[1 0 1 ... 1 1 1]\n"
     ]
    }
   ],
   "source": [
    "print(y_train)"
   ]
  },
  {
   "cell_type": "code",
   "execution_count": 8,
   "metadata": {},
   "outputs": [
    {
     "name": "stdout",
     "output_type": "stream",
     "text": [
      "       bskew_bins0  bskew_bins1  bskew_bins2  bskew_bins3  bskew_bins4  \\\n",
      "5118      1.757718     0.000000          0.0          0.0     0.000000   \n",
      "10284     5.558420     2.043469          0.0          0.0     0.000000   \n",
      "6208      1.043045     0.000000          0.0          0.0     0.000000   \n",
      "3361     32.988147     3.671563          0.0          0.0     0.000000   \n",
      "7068      1.226714     0.000000          0.0          0.0     0.000000   \n",
      "...            ...          ...          ...          ...          ...   \n",
      "15607     1.236646     0.000000          0.0          0.0     0.000000   \n",
      "9154     36.650708     1.582749          0.0          0.0     7.033945   \n",
      "3464      5.047560     0.000000          0.0          0.0     0.000000   \n",
      "9808      5.498535     0.396850          0.0          0.0     1.637622   \n",
      "6956      1.074451     0.000000          0.0          0.0     0.000000   \n",
      "\n",
      "       bskew_bins5  bskew_bins6  bskew_bins7  \n",
      "5118      0.000000          0.0    12.683617  \n",
      "10284     9.571344          0.0     9.154627  \n",
      "6208      4.304646          0.0     7.358766  \n",
      "3361     11.340869          0.0     8.709662  \n",
      "7068      9.599370          0.0    11.309390  \n",
      "...            ...          ...          ...  \n",
      "15607     2.412471          0.0    18.582094  \n",
      "9154      7.789630          0.0     7.201756  \n",
      "3464      9.283678          0.0     7.620200  \n",
      "9808      8.836640          0.0     8.058994  \n",
      "6956      7.561932          0.0    12.503293  \n",
      "\n",
      "[6000 rows x 8 columns]\n"
     ]
    }
   ],
   "source": [
    "print(X_test)"
   ]
  },
  {
   "cell_type": "code",
   "execution_count": 9,
   "metadata": {},
   "outputs": [
    {
     "name": "stdout",
     "output_type": "stream",
     "text": [
      "[1 1 1 ... 1 1 1]\n"
     ]
    }
   ],
   "source": [
    "print(y_test)"
   ]
  },
  {
   "cell_type": "markdown",
   "metadata": {
    "colab_type": "text",
    "id": "kW3c7UYih0hT"
   },
   "source": [
    "## Feature Scaling"
   ]
  },
  {
   "cell_type": "code",
   "execution_count": 10,
   "metadata": {
    "colab": {},
    "colab_type": "code",
    "id": "9fQlDPKCh8sc"
   },
   "outputs": [],
   "source": [
    "from sklearn.preprocessing import StandardScaler\n",
    "sc = StandardScaler()\n",
    "X_train = sc.fit_transform(X_train)\n",
    "X_test = sc.transform(X_test)"
   ]
  },
  {
   "cell_type": "code",
   "execution_count": 11,
   "metadata": {},
   "outputs": [
    {
     "name": "stdout",
     "output_type": "stream",
     "text": [
      "[[-0.36029554 -0.35932595 -0.05276475 ...  0.64152879 -0.15476765\n",
      "  -0.45450346]\n",
      " [-0.67491386 -0.35932595 -0.05276475 ... -0.85196424 -0.15476765\n",
      "   0.63755883]\n",
      " [-0.62733656 -0.35932595 -0.05276475 ...  1.08410914 -0.15476765\n",
      "   2.00986548]\n",
      " ...\n",
      " [ 2.45960846  4.57340218 -0.05276475 ...  1.23675523 -0.15476765\n",
      "   0.32884459]\n",
      " [-0.2121478  -0.35932595 -0.05276475 ... -0.10602402 -0.15476765\n",
      "   0.59632865]\n",
      " [ 2.99093678  2.66717658 -0.05276475 ...  0.9061054  -0.15476765\n",
      "   0.64292792]]\n"
     ]
    }
   ],
   "source": [
    "print(X_train)"
   ]
  },
  {
   "cell_type": "code",
   "execution_count": 12,
   "metadata": {},
   "outputs": [
    {
     "name": "stdout",
     "output_type": "stream",
     "text": [
      "[[-0.5602311  -0.35932595 -0.05276475 ... -0.85196424 -0.15476765\n",
      "   1.3827838 ]\n",
      " [-0.14792093  1.34052683 -0.05276475 ...  1.04981425 -0.15476765\n",
      "   0.32027132]\n",
      " [-0.63776068 -0.35932595 -0.05276475 ...  0.00334762 -0.15476765\n",
      "  -0.22042876]\n",
      " ...\n",
      " [-0.20334032 -0.35932595 -0.05276475 ...  0.99265648 -0.15476765\n",
      "  -0.14171581]\n",
      " [-0.15441735 -0.02920747 -0.05276475 ...  0.90383218 -0.15476765\n",
      "  -0.00960335]\n",
      " [-0.63435373 -0.35932595 -0.05276475 ...  0.65055405 -0.15476765\n",
      "   1.32849162]]\n"
     ]
    }
   ],
   "source": [
    "print(X_test)"
   ]
  },
  {
   "cell_type": "markdown",
   "metadata": {
    "colab_type": "text",
    "id": "bb6jCOCQiAmP"
   },
   "source": [
    "## Training the K-NN model on the Training set"
   ]
  },
  {
   "cell_type": "code",
   "execution_count": 13,
   "metadata": {
    "colab": {},
    "colab_type": "code",
    "id": "e0pFVAmciHQs"
   },
   "outputs": [
    {
     "data": {
      "text/plain": [
       "KNeighborsClassifier()"
      ]
     },
     "execution_count": 13,
     "metadata": {},
     "output_type": "execute_result"
    }
   ],
   "source": [
    "from sklearn.neighbors import KNeighborsClassifier\n",
    "classifier = KNeighborsClassifier(n_neighbors = 5, metric = 'minkowski', p = 2)\n",
    "classifier.fit(X_train, y_train)"
   ]
  },
  {
   "cell_type": "markdown",
   "metadata": {
    "colab_type": "text",
    "id": "h4Hwj34ziWQW"
   },
   "source": [
    "## Making the Confusion Matrix"
   ]
  },
  {
   "cell_type": "code",
   "execution_count": 14,
   "metadata": {
    "colab": {},
    "colab_type": "code",
    "id": "D6bpZwUiiXic"
   },
   "outputs": [
    {
     "name": "stdout",
     "output_type": "stream",
     "text": [
      "[[2873   86]\n",
      " [ 145 2896]]\n"
     ]
    },
    {
     "data": {
      "text/plain": [
       "0.9615"
      ]
     },
     "execution_count": 14,
     "metadata": {},
     "output_type": "execute_result"
    }
   ],
   "source": [
    "from sklearn.metrics import confusion_matrix, accuracy_score\n",
    "y_pred = classifier.predict(X_test)\n",
    "cm = confusion_matrix(y_test, y_pred)\n",
    "print(cm)\n",
    "accuracy_score(y_test, y_pred)"
   ]
  },
  {
   "cell_type": "code",
   "execution_count": 15,
   "metadata": {},
   "outputs": [
    {
     "name": "stdout",
     "output_type": "stream",
     "text": [
      "              precision    recall  f1-score   support\n",
      "\n",
      "           0       0.95      0.97      0.96      2959\n",
      "           1       0.97      0.95      0.96      3041\n",
      "\n",
      "    accuracy                           0.96      6000\n",
      "   macro avg       0.96      0.96      0.96      6000\n",
      "weighted avg       0.96      0.96      0.96      6000\n",
      "\n"
     ]
    }
   ],
   "source": [
    "from sklearn.metrics import classification_report\n",
    "\n",
    "print(classification_report(y_test, y_pred))"
   ]
  },
  {
   "cell_type": "code",
   "execution_count": 16,
   "metadata": {},
   "outputs": [
    {
     "name": "stdout",
     "output_type": "stream",
     "text": [
      "[[2873   86]\n",
      " [ 145 2896]]\n",
      "Accuracy: 0.962\n",
      "F1 Score: 0.962\n",
      "Sensitivity: 0.952\n",
      "Precision: 0.971\n",
      "Recall: 0.952\n"
     ]
    }
   ],
   "source": [
    "from sklearn import svm, metrics\n",
    "from sklearn.metrics import confusion_matrix\n",
    "import seaborn as sns\n",
    "print(confusion_matrix(y_test, y_pred))\n",
    "\n",
    "print('Accuracy: {0:.3f}'.format(metrics.accuracy_score(y_test, y_pred)))\n",
    "print('F1 Score: {0:.3f}'.format(metrics.f1_score(y_test, y_pred)))\n",
    "print('Sensitivity: {0:.3f}'.format(metrics.recall_score(y_test, y_pred)))\n",
    "print('Precision: {0:.3f}'.format(metrics.precision_score(y_test, y_pred)))\n",
    "print('Recall: {0:.3f}'.format(metrics.recall_score(y_test, y_pred)))"
   ]
  },
  {
   "cell_type": "code",
   "execution_count": 17,
   "metadata": {},
   "outputs": [
    {
     "name": "stdout",
     "output_type": "stream",
     "text": [
      "Accuracy: 96.28 %\n",
      "Standard Deviation: 0.34 %\n"
     ]
    }
   ],
   "source": [
    "from sklearn.model_selection import cross_val_score\n",
    "accuracies = cross_val_score(estimator = classifier, X = X_train, y = y_train, cv = 10)\n",
    "print(\"Accuracy: {:.2f} %\".format(accuracies.mean()*100))\n",
    "print(\"Standard Deviation: {:.2f} %\".format(accuracies.std()*100))"
   ]
  },
  {
   "cell_type": "code",
   "execution_count": null,
   "metadata": {},
   "outputs": [],
   "source": []
  }
 ],
 "metadata": {
  "colab": {
   "authorship_tag": "ABX9TyPs7cIfhPsV/MgzyHAv5eqh",
   "collapsed_sections": [],
   "machine_shape": "hm",
   "name": "k_nearest_neighbors.ipynb",
   "provenance": [],
   "toc_visible": true
  },
  "kernelspec": {
   "display_name": "Python 3",
   "language": "python",
   "name": "python3"
  },
  "language_info": {
   "codemirror_mode": {
    "name": "ipython",
    "version": 3
   },
   "file_extension": ".py",
   "mimetype": "text/x-python",
   "name": "python",
   "nbconvert_exporter": "python",
   "pygments_lexer": "ipython3",
   "version": "3.8.3"
  }
 },
 "nbformat": 4,
 "nbformat_minor": 1
}
