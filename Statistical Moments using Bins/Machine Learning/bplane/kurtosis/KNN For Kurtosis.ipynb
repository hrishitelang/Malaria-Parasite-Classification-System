{
 "cells": [
  {
   "cell_type": "markdown",
   "metadata": {
    "colab_type": "text",
    "id": "0MRC0e0KhQ0S"
   },
   "source": [
    "# K-Nearest Neighbors (K-NN)"
   ]
  },
  {
   "cell_type": "markdown",
   "metadata": {
    "colab_type": "text",
    "id": "LWd1UlMnhT2s"
   },
   "source": [
    "## Importing the libraries"
   ]
  },
  {
   "cell_type": "code",
   "execution_count": 1,
   "metadata": {
    "colab": {},
    "colab_type": "code",
    "id": "YvGPUQaHhXfL"
   },
   "outputs": [],
   "source": [
    "import numpy as np\n",
    "import matplotlib.pyplot as plt\n",
    "import pandas as pd"
   ]
  },
  {
   "cell_type": "markdown",
   "metadata": {
    "colab_type": "text",
    "id": "K1VMqkGvhc3-"
   },
   "source": [
    "## Importing the dataset"
   ]
  },
  {
   "cell_type": "code",
   "execution_count": 2,
   "metadata": {
    "colab": {},
    "colab_type": "code",
    "id": "M52QDmyzhh9s"
   },
   "outputs": [],
   "source": [
    "dataset = pd.read_csv('image_bins_stats_bkurto.csv')\n",
    "X = dataset[['bkurto_bins0','bkurto_bins1','bkurto_bins2','bkurto_bins3','bkurto_bins4','bkurto_bins5','bkurto_bins6','bkurto_bins7']]\n",
    "y = dataset.iloc[:, -1].values"
   ]
  },
  {
   "cell_type": "code",
   "execution_count": 3,
   "metadata": {},
   "outputs": [
    {
     "name": "stdout",
     "output_type": "stream",
     "text": [
      "       bkurto_bins0  bkurto_bins1  bkurto_bins2  bkurto_bins3  bkurto_bins4  \\\n",
      "0         47.621590      3.092351           0.0           0.0      0.000000   \n",
      "1          7.154429      0.840896           0.0           0.0      0.000000   \n",
      "2         43.394240      0.420448           0.0           0.0      7.701832   \n",
      "3          6.601182      2.619225           0.0           0.0      0.000000   \n",
      "4          6.869720      0.000000           0.0           0.0      0.000000   \n",
      "...             ...           ...           ...           ...           ...   \n",
      "23995      8.170191      0.000000           0.0           0.0      0.000000   \n",
      "23996      7.859719      0.000000           0.0           0.0      0.000000   \n",
      "23997      7.887594      0.000000           0.0           0.0      0.000000   \n",
      "23998      7.406609      0.000000           0.0           0.0      0.000000   \n",
      "23999      8.664782      0.000000           0.0           0.0      0.000000   \n",
      "\n",
      "       bkurto_bins5  bkurto_bins6  bkurto_bins7  \n",
      "0          8.421707      0.000000      9.181035  \n",
      "1         15.029039      0.000000     10.516990  \n",
      "2         13.599319      0.000000     10.354453  \n",
      "3         12.787280      0.000000     10.943418  \n",
      "4          0.000000      0.000000      8.924785  \n",
      "...             ...           ...           ...  \n",
      "23995      0.000000      0.000000     10.111068  \n",
      "23996      0.000000      0.000000      9.734824  \n",
      "23997      0.000000      0.000000      9.672132  \n",
      "23998      0.000000     14.278229     11.305344  \n",
      "23999      0.000000      0.000000     10.204302  \n",
      "\n",
      "[24000 rows x 8 columns]\n"
     ]
    }
   ],
   "source": [
    "print(X)"
   ]
  },
  {
   "cell_type": "code",
   "execution_count": 4,
   "metadata": {},
   "outputs": [
    {
     "name": "stdout",
     "output_type": "stream",
     "text": [
      "[1 1 1 ... 0 0 0]\n"
     ]
    }
   ],
   "source": [
    "print(y)"
   ]
  },
  {
   "cell_type": "markdown",
   "metadata": {
    "colab_type": "text",
    "id": "YvxIPVyMhmKp"
   },
   "source": [
    "## Splitting the dataset into the Training set and Test set"
   ]
  },
  {
   "cell_type": "code",
   "execution_count": 5,
   "metadata": {
    "colab": {},
    "colab_type": "code",
    "id": "AVzJWAXIhxoC"
   },
   "outputs": [],
   "source": [
    "from sklearn.model_selection import train_test_split\n",
    "X_train, X_test, y_train, y_test = train_test_split(X, y, test_size = 0.25, random_state = 0)"
   ]
  },
  {
   "cell_type": "code",
   "execution_count": 6,
   "metadata": {},
   "outputs": [
    {
     "name": "stdout",
     "output_type": "stream",
     "text": [
      "       bkurto_bins0  bkurto_bins1  bkurto_bins2  bkurto_bins3  bkurto_bins4  \\\n",
      "11524      4.697539      0.000000           0.0           0.0      0.000000   \n",
      "15653      1.569338      0.000000           0.0           0.0      0.000000   \n",
      "7256       1.539324      0.000000           0.0           0.0      6.449485   \n",
      "15235      1.854283      0.000000           0.0           0.0      0.000000   \n",
      "9717      33.515377      2.692971           0.0           0.0      5.072606   \n",
      "...             ...           ...           ...           ...           ...   \n",
      "13123      6.592747      0.000000           0.0           0.0      0.000000   \n",
      "19648      1.480392      0.000000           0.0           0.0      0.000000   \n",
      "9845      43.518837      6.420400           0.0           0.0      1.808437   \n",
      "10799      6.627811      0.000000           0.0           0.0      0.000000   \n",
      "2732      47.035442      3.984198           0.0           0.0      0.000000   \n",
      "\n",
      "       bkurto_bins5  bkurto_bins6  bkurto_bins7  \n",
      "11524      8.277461           0.0      8.344878  \n",
      "15653      0.000000           0.0     16.301468  \n",
      "7256      10.523612           0.0     17.897321  \n",
      "15235      0.000000           0.0     11.000813  \n",
      "9717       8.768957           0.0     10.077658  \n",
      "...             ...           ...           ...  \n",
      "13123      0.000000           0.0     20.038586  \n",
      "19648      0.000000           0.0     12.405009  \n",
      "9845      11.588348           0.0     11.857062  \n",
      "10799      4.098590           0.0     12.355050  \n",
      "2732       9.495772           0.0     12.909873  \n",
      "\n",
      "[18000 rows x 8 columns]\n"
     ]
    }
   ],
   "source": [
    "print(X_train)"
   ]
  },
  {
   "cell_type": "code",
   "execution_count": 7,
   "metadata": {},
   "outputs": [
    {
     "name": "stdout",
     "output_type": "stream",
     "text": [
      "[1 0 1 ... 1 1 1]\n"
     ]
    }
   ],
   "source": [
    "print(y_train)"
   ]
  },
  {
   "cell_type": "code",
   "execution_count": 8,
   "metadata": {},
   "outputs": [
    {
     "name": "stdout",
     "output_type": "stream",
     "text": [
      "       bkurto_bins0  bkurto_bins1  bkurto_bins2  bkurto_bins3  bkurto_bins4  \\\n",
      "5118       2.380153      0.000000           0.0           0.0      0.000000   \n",
      "10284      7.340075      2.300521           0.0           0.0      0.000000   \n",
      "6208       1.414617      0.000000           0.0           0.0      0.000000   \n",
      "3361      46.133754      4.357952           0.0           0.0      0.000000   \n",
      "7068       1.634967      0.000000           0.0           0.0      0.000000   \n",
      "...             ...           ...           ...           ...           ...   \n",
      "15607      2.425029      0.000000           0.0           0.0      0.000000   \n",
      "9154      50.215545      1.812567           0.0           0.0      8.060602   \n",
      "3464       6.637429      0.000000           0.0           0.0      0.000000   \n",
      "9808       7.379634      0.420448           0.0           0.0      1.847616   \n",
      "6956       1.420615      0.000000           0.0           0.0      0.000000   \n",
      "\n",
      "       bkurto_bins5  bkurto_bins6  bkurto_bins7  \n",
      "5118       0.000000           0.0     15.627832  \n",
      "10284     10.257368           0.0     11.289613  \n",
      "6208       5.024962           0.0      8.991926  \n",
      "3361      12.654396           0.0     11.013844  \n",
      "7068      10.610754           0.0     13.180163  \n",
      "...             ...           ...           ...  \n",
      "15607      3.165689           0.0     23.967608  \n",
      "9154       8.548928           0.0      9.074686  \n",
      "3464       9.898747           0.0      9.472968  \n",
      "9808       9.428957           0.0     10.056595  \n",
      "6956       8.394169           0.0     13.886812  \n",
      "\n",
      "[6000 rows x 8 columns]\n"
     ]
    }
   ],
   "source": [
    "print(X_test)"
   ]
  },
  {
   "cell_type": "code",
   "execution_count": 9,
   "metadata": {},
   "outputs": [
    {
     "name": "stdout",
     "output_type": "stream",
     "text": [
      "[1 1 1 ... 1 1 1]\n"
     ]
    }
   ],
   "source": [
    "print(y_test)"
   ]
  },
  {
   "cell_type": "markdown",
   "metadata": {
    "colab_type": "text",
    "id": "kW3c7UYih0hT"
   },
   "source": [
    "## Feature Scaling"
   ]
  },
  {
   "cell_type": "code",
   "execution_count": 10,
   "metadata": {
    "colab": {},
    "colab_type": "code",
    "id": "9fQlDPKCh8sc"
   },
   "outputs": [],
   "source": [
    "from sklearn.preprocessing import StandardScaler\n",
    "sc = StandardScaler()\n",
    "X_train = sc.fit_transform(X_train)\n",
    "X_test = sc.transform(X_test)"
   ]
  },
  {
   "cell_type": "code",
   "execution_count": 11,
   "metadata": {},
   "outputs": [
    {
     "name": "stdout",
     "output_type": "stream",
     "text": [
      "[[-0.47546603 -0.3577115  -0.05292873 ...  0.63547352 -0.15345066\n",
      "  -0.70327814]\n",
      " [-0.71061902 -0.3577115  -0.05292873 ... -0.85210606 -0.15345066\n",
      "   1.38611849]\n",
      " [-0.71287525 -0.3577115  -0.05292873 ...  1.03913926 -0.15345066\n",
      "   1.80518852]\n",
      " ...\n",
      " [ 2.44280714  4.47990857 -0.05292873 ...  1.23048779 -0.15345066\n",
      "   0.21901956]\n",
      " [-0.33036374 -0.3577115  -0.05292873 ... -0.11553012 -0.15345066\n",
      "   0.34979098]\n",
      " [ 2.70715725  2.64428778 -0.05292873 ...  0.8544216  -0.15345066\n",
      "   0.49548712]]\n"
     ]
    }
   ],
   "source": [
    "print(X_train)"
   ]
  },
  {
   "cell_type": "code",
   "execution_count": 12,
   "metadata": {},
   "outputs": [
    {
     "name": "stdout",
     "output_type": "stream",
     "text": [
      "[[-0.64966851 -0.3577115  -0.05292873 ... -0.85210606 -0.15345066\n",
      "   1.20922182]\n",
      " [-0.27682141  1.37567687 -0.05292873 ...  0.99129143 -0.15345066\n",
      "   0.07000771]\n",
      " [-0.72224971 -0.3577115  -0.05292873 ...  0.05095222 -0.15345066\n",
      "  -0.53336385]\n",
      " ...\n",
      " [-0.32964074 -0.3577115  -0.05292873 ...  0.92684206 -0.15345066\n",
      "  -0.40704233]\n",
      " [-0.27384771 -0.04091369 -0.05292873 ...  0.84241394 -0.15345066\n",
      "  -0.25378208]\n",
      " [-0.72179888 -0.3577115  -0.05292873 ...  0.65644747 -0.15345066\n",
      "   0.7520308 ]]\n"
     ]
    }
   ],
   "source": [
    "print(X_test)"
   ]
  },
  {
   "cell_type": "markdown",
   "metadata": {
    "colab_type": "text",
    "id": "bb6jCOCQiAmP"
   },
   "source": [
    "## Training the K-NN model on the Training set"
   ]
  },
  {
   "cell_type": "code",
   "execution_count": 23,
   "metadata": {
    "colab": {},
    "colab_type": "code",
    "id": "e0pFVAmciHQs"
   },
   "outputs": [
    {
     "data": {
      "text/plain": [
       "KNeighborsClassifier()"
      ]
     },
     "execution_count": 23,
     "metadata": {},
     "output_type": "execute_result"
    }
   ],
   "source": [
    "from sklearn.neighbors import KNeighborsClassifier\n",
    "classifier = KNeighborsClassifier(n_neighbors = 5, metric = 'minkowski', p = 2)\n",
    "classifier.fit(X_train, y_train)"
   ]
  },
  {
   "cell_type": "markdown",
   "metadata": {
    "colab_type": "text",
    "id": "h4Hwj34ziWQW"
   },
   "source": [
    "## Making the Confusion Matrix"
   ]
  },
  {
   "cell_type": "code",
   "execution_count": 24,
   "metadata": {
    "colab": {},
    "colab_type": "code",
    "id": "D6bpZwUiiXic"
   },
   "outputs": [
    {
     "name": "stdout",
     "output_type": "stream",
     "text": [
      "[[2860   99]\n",
      " [ 225 2816]]\n"
     ]
    },
    {
     "data": {
      "text/plain": [
       "0.946"
      ]
     },
     "execution_count": 24,
     "metadata": {},
     "output_type": "execute_result"
    }
   ],
   "source": [
    "from sklearn.metrics import confusion_matrix, accuracy_score\n",
    "y_pred = classifier.predict(X_test)\n",
    "cm = confusion_matrix(y_test, y_pred)\n",
    "print(cm)\n",
    "accuracy_score(y_test, y_pred)"
   ]
  },
  {
   "cell_type": "code",
   "execution_count": 25,
   "metadata": {},
   "outputs": [
    {
     "name": "stdout",
     "output_type": "stream",
     "text": [
      "              precision    recall  f1-score   support\n",
      "\n",
      "           0       0.93      0.97      0.95      2959\n",
      "           1       0.97      0.93      0.95      3041\n",
      "\n",
      "    accuracy                           0.95      6000\n",
      "   macro avg       0.95      0.95      0.95      6000\n",
      "weighted avg       0.95      0.95      0.95      6000\n",
      "\n"
     ]
    }
   ],
   "source": [
    "from sklearn.metrics import classification_report\n",
    "\n",
    "print(classification_report(y_test, y_pred))"
   ]
  },
  {
   "cell_type": "code",
   "execution_count": 26,
   "metadata": {},
   "outputs": [
    {
     "name": "stdout",
     "output_type": "stream",
     "text": [
      "[[2860   99]\n",
      " [ 225 2816]]\n",
      "Accuracy: 0.946\n",
      "F1 Score: 0.946\n",
      "Sensitivity: 0.926\n",
      "Precision: 0.966\n",
      "Recall: 0.926\n"
     ]
    }
   ],
   "source": [
    "from sklearn import svm, metrics\n",
    "from sklearn.metrics import confusion_matrix\n",
    "import seaborn as sns\n",
    "print(confusion_matrix(y_test, y_pred))\n",
    "\n",
    "print('Accuracy: {0:.3f}'.format(metrics.accuracy_score(y_test, y_pred)))\n",
    "print('F1 Score: {0:.3f}'.format(metrics.f1_score(y_test, y_pred)))\n",
    "print('Sensitivity: {0:.3f}'.format(metrics.recall_score(y_test, y_pred)))\n",
    "print('Precision: {0:.3f}'.format(metrics.precision_score(y_test, y_pred)))\n",
    "print('Recall: {0:.3f}'.format(metrics.recall_score(y_test, y_pred)))"
   ]
  },
  {
   "cell_type": "code",
   "execution_count": 27,
   "metadata": {},
   "outputs": [
    {
     "name": "stdout",
     "output_type": "stream",
     "text": [
      "Accuracy: 94.99 %\n",
      "Standard Deviation: 0.36 %\n"
     ]
    }
   ],
   "source": [
    "from sklearn.model_selection import cross_val_score\n",
    "accuracies = cross_val_score(estimator = classifier, X = X_train, y = y_train, cv = 10)\n",
    "print(\"Accuracy: {:.2f} %\".format(accuracies.mean()*100))\n",
    "print(\"Standard Deviation: {:.2f} %\".format(accuracies.std()*100))"
   ]
  },
  {
   "cell_type": "code",
   "execution_count": null,
   "metadata": {},
   "outputs": [],
   "source": []
  }
 ],
 "metadata": {
  "colab": {
   "authorship_tag": "ABX9TyPs7cIfhPsV/MgzyHAv5eqh",
   "collapsed_sections": [],
   "machine_shape": "hm",
   "name": "k_nearest_neighbors.ipynb",
   "provenance": [],
   "toc_visible": true
  },
  "kernelspec": {
   "display_name": "Python 3",
   "language": "python",
   "name": "python3"
  },
  "language_info": {
   "codemirror_mode": {
    "name": "ipython",
    "version": 3
   },
   "file_extension": ".py",
   "mimetype": "text/x-python",
   "name": "python",
   "nbconvert_exporter": "python",
   "pygments_lexer": "ipython3",
   "version": "3.8.3"
  }
 },
 "nbformat": 4,
 "nbformat_minor": 1
}
