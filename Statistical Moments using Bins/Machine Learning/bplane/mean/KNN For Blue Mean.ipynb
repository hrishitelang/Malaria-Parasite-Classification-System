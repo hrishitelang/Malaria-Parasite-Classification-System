{
 "cells": [
  {
   "cell_type": "markdown",
   "metadata": {
    "colab_type": "text",
    "id": "0MRC0e0KhQ0S"
   },
   "source": [
    "# K-Nearest Neighbors (K-NN)"
   ]
  },
  {
   "cell_type": "markdown",
   "metadata": {
    "colab_type": "text",
    "id": "LWd1UlMnhT2s"
   },
   "source": [
    "## Importing the libraries"
   ]
  },
  {
   "cell_type": "code",
   "execution_count": 1,
   "metadata": {
    "colab": {},
    "colab_type": "code",
    "id": "YvGPUQaHhXfL"
   },
   "outputs": [],
   "source": [
    "import numpy as np\n",
    "import matplotlib.pyplot as plt\n",
    "import pandas as pd"
   ]
  },
  {
   "cell_type": "markdown",
   "metadata": {
    "colab_type": "text",
    "id": "K1VMqkGvhc3-"
   },
   "source": [
    "## Importing the dataset"
   ]
  },
  {
   "cell_type": "code",
   "execution_count": 2,
   "metadata": {
    "colab": {},
    "colab_type": "code",
    "id": "M52QDmyzhh9s"
   },
   "outputs": [],
   "source": [
    "dataset = pd.read_csv('image_bins_stats_bmean.csv')\n",
    "X = dataset[['bmean_bins0','bmean_bins1','bmean_bins2','bmean_bins3','bmean_bins4','bmean_bins5','bmean_bins6','bmean_bins7']]\n",
    "y = dataset.iloc[:, -1].values"
   ]
  },
  {
   "cell_type": "code",
   "execution_count": 3,
   "metadata": {},
   "outputs": [
    {
     "name": "stdout",
     "output_type": "stream",
     "text": [
      "       bmean_bins0  bmean_bins1  bmean_bins2  bmean_bins3  bmean_bins4  \\\n",
      "0         3.238728   163.416667          0.0          0.0     0.000000   \n",
      "1         1.294467   147.000000          0.0          0.0     0.000000   \n",
      "2         3.003968   161.500000          0.0          0.0   153.346154   \n",
      "3         1.093969   144.250000          0.0          0.0     0.000000   \n",
      "4         1.368313     0.000000          0.0          0.0     0.000000   \n",
      "...            ...          ...          ...          ...          ...   \n",
      "23994     1.479808     0.000000          0.0          0.0     0.000000   \n",
      "23995     1.482517     0.000000          0.0          0.0     0.000000   \n",
      "23996     1.491798     0.000000          0.0          0.0     0.000000   \n",
      "23997     1.523047     0.000000          0.0          0.0     0.000000   \n",
      "23998     1.701011     0.000000          0.0          0.0     0.000000   \n",
      "\n",
      "       bmean_bins5  bmean_bins6  bmean_bins7  \n",
      "0       177.137931     0.000000   214.994616  \n",
      "1       167.900000     0.000000   207.965545  \n",
      "2       177.946429     0.000000   214.486325  \n",
      "3       176.413333     0.000000   209.827982  \n",
      "4         0.000000     0.000000   212.204533  \n",
      "...            ...          ...          ...  \n",
      "23994     0.000000     0.000000   207.970165  \n",
      "23995     0.000000     0.000000   210.046316  \n",
      "23996     0.000000     0.000000   208.592880  \n",
      "23997     0.000000   123.428571   205.649197  \n",
      "23998     0.000000     0.000000   206.699373  \n",
      "\n",
      "[23999 rows x 8 columns]\n"
     ]
    }
   ],
   "source": [
    "print(X)"
   ]
  },
  {
   "cell_type": "code",
   "execution_count": 4,
   "metadata": {},
   "outputs": [
    {
     "name": "stdout",
     "output_type": "stream",
     "text": [
      "[1 1 1 ... 0 0 0]\n"
     ]
    }
   ],
   "source": [
    "print(y)"
   ]
  },
  {
   "cell_type": "markdown",
   "metadata": {
    "colab_type": "text",
    "id": "YvxIPVyMhmKp"
   },
   "source": [
    "## Splitting the dataset into the Training set and Test set"
   ]
  },
  {
   "cell_type": "code",
   "execution_count": 5,
   "metadata": {
    "colab": {},
    "colab_type": "code",
    "id": "AVzJWAXIhxoC"
   },
   "outputs": [],
   "source": [
    "from sklearn.model_selection import train_test_split\n",
    "X_train, X_test, y_train, y_test = train_test_split(X, y, test_size = 0.25, random_state = 0)"
   ]
  },
  {
   "cell_type": "code",
   "execution_count": 6,
   "metadata": {},
   "outputs": [
    {
     "name": "stdout",
     "output_type": "stream",
     "text": [
      "       bmean_bins0  bmean_bins1  bmean_bins2  bmean_bins3  bmean_bins4  \\\n",
      "6856      0.202875     0.000000          0.0          0.0     0.000000   \n",
      "19867     0.322276     0.000000          0.0          0.0     0.000000   \n",
      "22163     1.188329     0.000000          0.0          0.0     0.000000   \n",
      "15231     0.377778     0.000000          0.0          0.0     0.000000   \n",
      "9716      2.675175   156.333333          0.0          0.0   143.595745   \n",
      "...            ...          ...          ...          ...          ...   \n",
      "13123     1.581616     0.000000          0.0          0.0     0.000000   \n",
      "19648     0.198078     0.000000          0.0          0.0     0.000000   \n",
      "9845      3.610692   148.000000        122.1        139.0   131.775281   \n",
      "10799     3.153682   162.315789          0.0          0.0     0.000000   \n",
      "2732      4.683243   142.454545          0.0          0.0   136.000000   \n",
      "\n",
      "       bmean_bins5  bmean_bins6  bmean_bins7  \n",
      "6856    138.623377     0.000000   160.331154  \n",
      "19867     0.000000     0.000000   162.052357  \n",
      "22163     0.000000     0.000000   183.699216  \n",
      "15231     0.000000     0.000000   159.261597  \n",
      "9716    162.464789     0.000000   195.129496  \n",
      "...            ...          ...          ...  \n",
      "13123     0.000000     0.000000   179.443758  \n",
      "19648     0.000000     0.000000   158.234181  \n",
      "9845    162.987768   124.636364   184.045613  \n",
      "10799   174.736842     0.000000   206.847955  \n",
      "2732    154.788301     0.000000   183.837533  \n",
      "\n",
      "[17999 rows x 8 columns]\n"
     ]
    }
   ],
   "source": [
    "print(X_train)"
   ]
  },
  {
   "cell_type": "code",
   "execution_count": 7,
   "metadata": {},
   "outputs": [
    {
     "name": "stdout",
     "output_type": "stream",
     "text": [
      "[1 0 0 ... 1 1 1]\n"
     ]
    }
   ],
   "source": [
    "print(y_train)"
   ]
  },
  {
   "cell_type": "code",
   "execution_count": 8,
   "metadata": {},
   "outputs": [
    {
     "name": "stdout",
     "output_type": "stream",
     "text": [
      "       bmean_bins0  bmean_bins1  bmean_bins2  bmean_bins3  bmean_bins4  \\\n",
      "5118      0.466565     0.000000          0.0          0.0     0.000000   \n",
      "10283     1.650472   139.222222          0.0          0.0     0.000000   \n",
      "6208      0.185614     0.000000          0.0          0.0     0.000000   \n",
      "3361      4.196513   149.576923          0.0          0.0     0.000000   \n",
      "7067      0.448416     0.000000          0.0          0.0   130.333333   \n",
      "...            ...          ...          ...          ...          ...   \n",
      "11969     1.028877   119.000000          0.0          0.0   115.600000   \n",
      "15355     0.201008     0.000000          0.0          0.0     0.000000   \n",
      "3464      1.505532     0.000000          0.0          0.0     0.000000   \n",
      "8441      1.286241     0.000000          0.0          0.0     0.000000   \n",
      "12300     1.117400     0.000000          0.0          0.0     0.000000   \n",
      "\n",
      "       bmean_bins5  bmean_bins6  bmean_bins7  \n",
      "5118      0.000000          0.0   158.116885  \n",
      "10283   153.253165          0.0   199.767866  \n",
      "6208    132.180952          0.0   173.514824  \n",
      "3361    177.265700          0.0   201.726197  \n",
      "7067    142.281553          0.0   175.475895  \n",
      "...            ...          ...          ...  \n",
      "11969   140.756173          0.0   192.776542  \n",
      "15355     0.000000          0.0   170.930752  \n",
      "3464    147.891892          0.0   185.284822  \n",
      "8441    175.552632          0.0   199.725267  \n",
      "12300     0.000000          0.0   217.171514  \n",
      "\n",
      "[6000 rows x 8 columns]\n"
     ]
    }
   ],
   "source": [
    "print(X_test)"
   ]
  },
  {
   "cell_type": "code",
   "execution_count": 9,
   "metadata": {},
   "outputs": [
    {
     "name": "stdout",
     "output_type": "stream",
     "text": [
      "[1 1 1 ... 1 1 0]\n"
     ]
    }
   ],
   "source": [
    "print(y_test)"
   ]
  },
  {
   "cell_type": "markdown",
   "metadata": {
    "colab_type": "text",
    "id": "kW3c7UYih0hT"
   },
   "source": [
    "## Feature Scaling"
   ]
  },
  {
   "cell_type": "code",
   "execution_count": 10,
   "metadata": {
    "colab": {},
    "colab_type": "code",
    "id": "9fQlDPKCh8sc"
   },
   "outputs": [],
   "source": [
    "from sklearn.preprocessing import StandardScaler\n",
    "sc = StandardScaler()\n",
    "X_train = sc.fit_transform(X_train)\n",
    "X_test = sc.transform(X_test)"
   ]
  },
  {
   "cell_type": "code",
   "execution_count": 11,
   "metadata": {},
   "outputs": [
    {
     "name": "stdout",
     "output_type": "stream",
     "text": [
      "[[-0.87848225 -0.4791117  -0.09555524 ...  0.83574953 -0.24323451\n",
      "  -1.28884863]\n",
      " [-0.77970072 -0.4791117  -0.09555524 ... -0.94813652 -0.24323451\n",
      "  -1.19764222]\n",
      " [-0.06321131 -0.4791117  -0.09555524 ... -0.94813652 -0.24323451\n",
      "  -0.05057695]\n",
      " ...\n",
      " [ 1.94082047  2.08895958 11.40211115 ...  1.14928465  3.72429511\n",
      "  -0.03222136]\n",
      " [ 1.56273413  2.33736477 -0.09555524 ...  1.30047855 -0.24323451\n",
      "   1.17607284]\n",
      " [ 2.82814733  1.99273578 -0.09555524 ...  1.04376915 -0.24323451\n",
      "  -0.0432475 ]]\n"
     ]
    }
   ],
   "source": [
    "print(X_train)"
   ]
  },
  {
   "cell_type": "code",
   "execution_count": 12,
   "metadata": {},
   "outputs": [
    {
     "name": "stdout",
     "output_type": "stream",
     "text": [
      "[[-0.66032961 -0.4791117  -0.09555524 ... -0.94813652 -0.24323451\n",
      "  -1.40618254]\n",
      " [ 0.31912146  1.93664905 -0.09555524 ...  1.02401413 -0.24323451\n",
      "   0.80089953]\n",
      " [-0.89276192 -0.4791117  -0.09555524 ...  0.75284467 -0.24323451\n",
      "  -0.59024702]\n",
      " ...\n",
      " [ 0.19921233 -0.4791117  -0.09555524 ...  0.95502216 -0.24323451\n",
      "   0.03344418]\n",
      " [ 0.01779207 -0.4791117  -0.09555524 ...  1.31097661 -0.24323451\n",
      "   0.79864218]\n",
      " [-0.12189078 -0.4791117  -0.09555524 ... -0.94813652 -0.24323451\n",
      "   1.72311742]]\n"
     ]
    }
   ],
   "source": [
    "print(X_test)"
   ]
  },
  {
   "cell_type": "markdown",
   "metadata": {
    "colab_type": "text",
    "id": "bb6jCOCQiAmP"
   },
   "source": [
    "## Training the K-NN model on the Training set"
   ]
  },
  {
   "cell_type": "code",
   "execution_count": 13,
   "metadata": {
    "colab": {},
    "colab_type": "code",
    "id": "e0pFVAmciHQs"
   },
   "outputs": [
    {
     "data": {
      "text/plain": [
       "KNeighborsClassifier()"
      ]
     },
     "execution_count": 13,
     "metadata": {},
     "output_type": "execute_result"
    }
   ],
   "source": [
    "from sklearn.neighbors import KNeighborsClassifier\n",
    "classifier = KNeighborsClassifier(n_neighbors = 5, metric = 'minkowski', p = 2)\n",
    "classifier.fit(X_train, y_train)"
   ]
  },
  {
   "cell_type": "markdown",
   "metadata": {
    "colab_type": "text",
    "id": "h4Hwj34ziWQW"
   },
   "source": [
    "## Making the Confusion Matrix"
   ]
  },
  {
   "cell_type": "code",
   "execution_count": 14,
   "metadata": {
    "colab": {},
    "colab_type": "code",
    "id": "D6bpZwUiiXic"
   },
   "outputs": [
    {
     "name": "stdout",
     "output_type": "stream",
     "text": [
      "[[2848  110]\n",
      " [ 201 2841]]\n"
     ]
    },
    {
     "data": {
      "text/plain": [
       "0.9481666666666667"
      ]
     },
     "execution_count": 14,
     "metadata": {},
     "output_type": "execute_result"
    }
   ],
   "source": [
    "from sklearn.metrics import confusion_matrix, accuracy_score\n",
    "y_pred = classifier.predict(X_test)\n",
    "cm = confusion_matrix(y_test, y_pred)\n",
    "print(cm)\n",
    "accuracy_score(y_test, y_pred)"
   ]
  },
  {
   "cell_type": "code",
   "execution_count": 15,
   "metadata": {},
   "outputs": [
    {
     "name": "stdout",
     "output_type": "stream",
     "text": [
      "              precision    recall  f1-score   support\n",
      "\n",
      "           0       0.93      0.96      0.95      2958\n",
      "           1       0.96      0.93      0.95      3042\n",
      "\n",
      "    accuracy                           0.95      6000\n",
      "   macro avg       0.95      0.95      0.95      6000\n",
      "weighted avg       0.95      0.95      0.95      6000\n",
      "\n"
     ]
    }
   ],
   "source": [
    "from sklearn.metrics import classification_report\n",
    "\n",
    "print(classification_report(y_test, y_pred))"
   ]
  },
  {
   "cell_type": "code",
   "execution_count": 16,
   "metadata": {},
   "outputs": [
    {
     "name": "stdout",
     "output_type": "stream",
     "text": [
      "[[2848  110]\n",
      " [ 201 2841]]\n",
      "Accuracy: 0.948\n",
      "F1 Score: 0.948\n",
      "Sensitivity: 0.934\n",
      "Precision: 0.963\n",
      "Recall: 0.934\n"
     ]
    }
   ],
   "source": [
    "from sklearn import svm, metrics\n",
    "from sklearn.metrics import confusion_matrix\n",
    "import seaborn as sns\n",
    "print(confusion_matrix(y_test, y_pred))\n",
    "\n",
    "print('Accuracy: {0:.3f}'.format(metrics.accuracy_score(y_test, y_pred)))\n",
    "print('F1 Score: {0:.3f}'.format(metrics.f1_score(y_test, y_pred)))\n",
    "print('Sensitivity: {0:.3f}'.format(metrics.recall_score(y_test, y_pred)))\n",
    "print('Precision: {0:.3f}'.format(metrics.precision_score(y_test, y_pred)))\n",
    "print('Recall: {0:.3f}'.format(metrics.recall_score(y_test, y_pred)))"
   ]
  },
  {
   "cell_type": "code",
   "execution_count": 17,
   "metadata": {},
   "outputs": [
    {
     "name": "stdout",
     "output_type": "stream",
     "text": [
      "Accuracy: 95.25 %\n",
      "Standard Deviation: 0.43 %\n"
     ]
    }
   ],
   "source": [
    "from sklearn.model_selection import cross_val_score\n",
    "accuracies = cross_val_score(estimator = classifier, X = X_train, y = y_train, cv = 10)\n",
    "print(\"Accuracy: {:.2f} %\".format(accuracies.mean()*100))\n",
    "print(\"Standard Deviation: {:.2f} %\".format(accuracies.std()*100))"
   ]
  },
  {
   "cell_type": "code",
   "execution_count": null,
   "metadata": {},
   "outputs": [],
   "source": []
  }
 ],
 "metadata": {
  "colab": {
   "authorship_tag": "ABX9TyPs7cIfhPsV/MgzyHAv5eqh",
   "collapsed_sections": [],
   "machine_shape": "hm",
   "name": "k_nearest_neighbors.ipynb",
   "provenance": [],
   "toc_visible": true
  },
  "kernelspec": {
   "display_name": "Python 3",
   "language": "python",
   "name": "python3"
  },
  "language_info": {
   "codemirror_mode": {
    "name": "ipython",
    "version": 3
   },
   "file_extension": ".py",
   "mimetype": "text/x-python",
   "name": "python",
   "nbconvert_exporter": "python",
   "pygments_lexer": "ipython3",
   "version": "3.8.3"
  }
 },
 "nbformat": 4,
 "nbformat_minor": 1
}
